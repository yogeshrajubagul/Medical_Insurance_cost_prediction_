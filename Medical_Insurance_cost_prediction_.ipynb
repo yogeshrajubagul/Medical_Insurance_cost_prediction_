{
  "nbformat": 4,
  "nbformat_minor": 0,
  "metadata": {
    "colab": {
      "provenance": []
    },
    "kernelspec": {
      "name": "python3",
      "display_name": "Python 3"
    },
    "language_info": {
      "name": "python"
    }
  },
  "cells": [
    {
      "cell_type": "code",
      "execution_count": 1,
      "metadata": {
        "id": "lQyxCNUmf2fG"
      },
      "outputs": [],
      "source": [
        "# Importing Libraries:\n",
        "import pandas as pd\n",
        "import numpy as np\n",
        "import matplotlib.pyplot as plt\n",
        "import seaborn as sns"
      ]
    },
    {
      "cell_type": "code",
      "source": [
        "from google.colab import files"
      ],
      "metadata": {
        "id": "llQDyfQSgoz3"
      },
      "execution_count": 2,
      "outputs": []
    },
    {
      "cell_type": "code",
      "source": [
        "uploaded = files.upload()\n"
      ],
      "metadata": {
        "colab": {
          "base_uri": "https://localhost:8080/",
          "height": 73
        },
        "id": "M6OhVwH1hDiv",
        "outputId": "09acb473-926d-45ba-fad6-934dffd097c1"
      },
      "execution_count": 3,
      "outputs": [
        {
          "output_type": "display_data",
          "data": {
            "text/plain": [
              "<IPython.core.display.HTML object>"
            ],
            "text/html": [
              "\n",
              "     <input type=\"file\" id=\"files-f3ab0bad-eb0d-4b4d-b403-5fa95248aca4\" name=\"files[]\" multiple disabled\n",
              "        style=\"border:none\" />\n",
              "     <output id=\"result-f3ab0bad-eb0d-4b4d-b403-5fa95248aca4\">\n",
              "      Upload widget is only available when the cell has been executed in the\n",
              "      current browser session. Please rerun this cell to enable.\n",
              "      </output>\n",
              "      <script>// Copyright 2017 Google LLC\n",
              "//\n",
              "// Licensed under the Apache License, Version 2.0 (the \"License\");\n",
              "// you may not use this file except in compliance with the License.\n",
              "// You may obtain a copy of the License at\n",
              "//\n",
              "//      http://www.apache.org/licenses/LICENSE-2.0\n",
              "//\n",
              "// Unless required by applicable law or agreed to in writing, software\n",
              "// distributed under the License is distributed on an \"AS IS\" BASIS,\n",
              "// WITHOUT WARRANTIES OR CONDITIONS OF ANY KIND, either express or implied.\n",
              "// See the License for the specific language governing permissions and\n",
              "// limitations under the License.\n",
              "\n",
              "/**\n",
              " * @fileoverview Helpers for google.colab Python module.\n",
              " */\n",
              "(function(scope) {\n",
              "function span(text, styleAttributes = {}) {\n",
              "  const element = document.createElement('span');\n",
              "  element.textContent = text;\n",
              "  for (const key of Object.keys(styleAttributes)) {\n",
              "    element.style[key] = styleAttributes[key];\n",
              "  }\n",
              "  return element;\n",
              "}\n",
              "\n",
              "// Max number of bytes which will be uploaded at a time.\n",
              "const MAX_PAYLOAD_SIZE = 100 * 1024;\n",
              "\n",
              "function _uploadFiles(inputId, outputId) {\n",
              "  const steps = uploadFilesStep(inputId, outputId);\n",
              "  const outputElement = document.getElementById(outputId);\n",
              "  // Cache steps on the outputElement to make it available for the next call\n",
              "  // to uploadFilesContinue from Python.\n",
              "  outputElement.steps = steps;\n",
              "\n",
              "  return _uploadFilesContinue(outputId);\n",
              "}\n",
              "\n",
              "// This is roughly an async generator (not supported in the browser yet),\n",
              "// where there are multiple asynchronous steps and the Python side is going\n",
              "// to poll for completion of each step.\n",
              "// This uses a Promise to block the python side on completion of each step,\n",
              "// then passes the result of the previous step as the input to the next step.\n",
              "function _uploadFilesContinue(outputId) {\n",
              "  const outputElement = document.getElementById(outputId);\n",
              "  const steps = outputElement.steps;\n",
              "\n",
              "  const next = steps.next(outputElement.lastPromiseValue);\n",
              "  return Promise.resolve(next.value.promise).then((value) => {\n",
              "    // Cache the last promise value to make it available to the next\n",
              "    // step of the generator.\n",
              "    outputElement.lastPromiseValue = value;\n",
              "    return next.value.response;\n",
              "  });\n",
              "}\n",
              "\n",
              "/**\n",
              " * Generator function which is called between each async step of the upload\n",
              " * process.\n",
              " * @param {string} inputId Element ID of the input file picker element.\n",
              " * @param {string} outputId Element ID of the output display.\n",
              " * @return {!Iterable<!Object>} Iterable of next steps.\n",
              " */\n",
              "function* uploadFilesStep(inputId, outputId) {\n",
              "  const inputElement = document.getElementById(inputId);\n",
              "  inputElement.disabled = false;\n",
              "\n",
              "  const outputElement = document.getElementById(outputId);\n",
              "  outputElement.innerHTML = '';\n",
              "\n",
              "  const pickedPromise = new Promise((resolve) => {\n",
              "    inputElement.addEventListener('change', (e) => {\n",
              "      resolve(e.target.files);\n",
              "    });\n",
              "  });\n",
              "\n",
              "  const cancel = document.createElement('button');\n",
              "  inputElement.parentElement.appendChild(cancel);\n",
              "  cancel.textContent = 'Cancel upload';\n",
              "  const cancelPromise = new Promise((resolve) => {\n",
              "    cancel.onclick = () => {\n",
              "      resolve(null);\n",
              "    };\n",
              "  });\n",
              "\n",
              "  // Wait for the user to pick the files.\n",
              "  const files = yield {\n",
              "    promise: Promise.race([pickedPromise, cancelPromise]),\n",
              "    response: {\n",
              "      action: 'starting',\n",
              "    }\n",
              "  };\n",
              "\n",
              "  cancel.remove();\n",
              "\n",
              "  // Disable the input element since further picks are not allowed.\n",
              "  inputElement.disabled = true;\n",
              "\n",
              "  if (!files) {\n",
              "    return {\n",
              "      response: {\n",
              "        action: 'complete',\n",
              "      }\n",
              "    };\n",
              "  }\n",
              "\n",
              "  for (const file of files) {\n",
              "    const li = document.createElement('li');\n",
              "    li.append(span(file.name, {fontWeight: 'bold'}));\n",
              "    li.append(span(\n",
              "        `(${file.type || 'n/a'}) - ${file.size} bytes, ` +\n",
              "        `last modified: ${\n",
              "            file.lastModifiedDate ? file.lastModifiedDate.toLocaleDateString() :\n",
              "                                    'n/a'} - `));\n",
              "    const percent = span('0% done');\n",
              "    li.appendChild(percent);\n",
              "\n",
              "    outputElement.appendChild(li);\n",
              "\n",
              "    const fileDataPromise = new Promise((resolve) => {\n",
              "      const reader = new FileReader();\n",
              "      reader.onload = (e) => {\n",
              "        resolve(e.target.result);\n",
              "      };\n",
              "      reader.readAsArrayBuffer(file);\n",
              "    });\n",
              "    // Wait for the data to be ready.\n",
              "    let fileData = yield {\n",
              "      promise: fileDataPromise,\n",
              "      response: {\n",
              "        action: 'continue',\n",
              "      }\n",
              "    };\n",
              "\n",
              "    // Use a chunked sending to avoid message size limits. See b/62115660.\n",
              "    let position = 0;\n",
              "    do {\n",
              "      const length = Math.min(fileData.byteLength - position, MAX_PAYLOAD_SIZE);\n",
              "      const chunk = new Uint8Array(fileData, position, length);\n",
              "      position += length;\n",
              "\n",
              "      const base64 = btoa(String.fromCharCode.apply(null, chunk));\n",
              "      yield {\n",
              "        response: {\n",
              "          action: 'append',\n",
              "          file: file.name,\n",
              "          data: base64,\n",
              "        },\n",
              "      };\n",
              "\n",
              "      let percentDone = fileData.byteLength === 0 ?\n",
              "          100 :\n",
              "          Math.round((position / fileData.byteLength) * 100);\n",
              "      percent.textContent = `${percentDone}% done`;\n",
              "\n",
              "    } while (position < fileData.byteLength);\n",
              "  }\n",
              "\n",
              "  // All done.\n",
              "  yield {\n",
              "    response: {\n",
              "      action: 'complete',\n",
              "    }\n",
              "  };\n",
              "}\n",
              "\n",
              "scope.google = scope.google || {};\n",
              "scope.google.colab = scope.google.colab || {};\n",
              "scope.google.colab._files = {\n",
              "  _uploadFiles,\n",
              "  _uploadFilesContinue,\n",
              "};\n",
              "})(self);\n",
              "</script> "
            ]
          },
          "metadata": {}
        },
        {
          "output_type": "stream",
          "name": "stdout",
          "text": [
            "Saving Test_Data.csv to Test_Data.csv\n"
          ]
        }
      ]
    },
    {
      "cell_type": "code",
      "source": [
        "uploaded"
      ],
      "metadata": {
        "colab": {
          "base_uri": "https://localhost:8080/"
        },
        "id": "hRSrJQzlhjDG",
        "outputId": "c67e1d7b-d278-4647-c822-15db16a51464"
      },
      "execution_count": 5,
      "outputs": [
        {
          "output_type": "execute_result",
          "data": {
            "text/plain": [
              "{'Test_Data.csv': b'age,sex,bmi,smoker,region,children\\r\\n40.0,male,29.9,no,southwest,2\\r\\n47.0,male,32.3,no,southwest,1\\r\\n54.0,female,28.88,no,northeast,2\\r\\n37.0,male,30.568093521042904,no,northeast,3\\r\\n59.130048637461115,male,33.13285369920661,yes,northeast,4\\r\\n43.0,female,34.4,no,southwest,3\\r\\n49.77308070261147,female,25.852540443440223,no,northwest,4\\r\\n31.20704000095592,male,29.938928006643664,no,northeast,5\\r\\n19.0,female,31.2998279593465,no,northwest,1\\r\\n59.45787054642006,female,29.632239555284695,no,southeast,3\\r\\n26.0,male,29.45,no,northeast,0\\r\\n32.0,male,27.835,no,northwest,1\\r\\n38.99783398176651,male,29.59959567659642,no,southwest,4\\r\\n25.32656539708931,male,25.577307643612887,no,southwest,5\\r\\n25.0,female,30.3,no,southwest,0\\r\\n37.65181770418642,male,19.719650492354887,no,northwest,2\\r\\n30.0,female,19.95,no,northwest,3\\r\\n59.0,female,32.395,no,northeast,3\\r\\n63.33608618782331,female,27.082740847194607,no,northeast,2\\r\\n44.0,female,26.41,no,northwest,0\\r\\n55.0,female,30.5,no,southwest,0\\r\\n60.0,male,28.595,no,northeast,0\\r\\n40.0,male,32.775,yes,northeast,1\\r\\n50.3164879187132,male,29.796242539747254,no,northwest,3\\r\\n47.78323443831381,female,34.018767187905354,no,northwest,4\\r\\n50.04101727813653,female,33.319154572502356,no,northwest,4\\r\\n34.38522893912089,male,37.33493446813706,no,northeast,4\\r\\n53.0,female,26.7,no,southwest,2\\r\\n46.0,male,27.6,no,southwest,0\\r\\n48.00404810636843,male,32.21571018451945,no,northeast,1\\r\\n28.0,female,33.4,no,southwest,0\\r\\n30.228910951830034,male,35.972981791601825,no,northeast,3\\r\\n19.108477322508243,male,29.51120950906925,no,southwest,5\\r\\n52.0,female,30.875,no,northeast,0\\r\\n18.0,female,39.16,no,southeast,0\\r\\n40.0,male,26.315,no,northwest,1\\r\\n23.982253066110435,female,32.81929012264442,yes,southeast,2\\r\\n22.96539034293526,male,29.230677301509616,no,southwest,5\\r\\n39.90995909937546,female,23.936730333954202,no,southeast,5\\r\\n24.3735381847697,female,27.11159710712815,no,southeast,4\\r\\n49.0000030049196,female,27.03249709274029,yes,northeast,1\\r\\n35.39966001443404,female,28.057695712918466,no,northeast,3\\r\\n51.26830624353531,female,37.83286653746809,no,southwest,1\\r\\n43.33335795821094,female,27.09051447305142,no,southeast,5\\r\\n33.853664134838674,male,29.42845547116129,no,northwest,4\\r\\n37.0,female,29.5,no,southwest,2\\r\\n48.788658442167524,male,31.470272165740624,no,southeast,5\\r\\n32.0,male,35.2,no,southwest,2\\r\\n48.15530403640673,female,31.619768320538505,no,northeast,2\\r\\n43.39452186866548,female,33.06628123086076,yes,southeast,3\\r\\n41.19068867114669,male,25.90635355510509,no,southeast,5\\r\\n28.719029750386632,male,34.26828675894865,no,southeast,2\\r\\n52.69874705466188,male,31.80509403233384,no,southwest,4\\r\\n25.019387879357872,male,27.810178636662883,no,northeast,4\\r\\n58.0,female,31.825,no,northeast,2\\r\\n19.0,female,30.59,no,northwest,2\\r\\n59.0,female,30.517084929916816,no,southeast,3\\r\\n56.186425854022154,male,28.809646510892858,no,northeast,4\\r\\n38.2530649465692,male,29.460572123359583,no,southwest,4\\r\\n46.95076313040298,male,27.341851339157465,no,northwest,2\\r\\n56.0,male,33.66,no,southeast,4\\r\\n26.320317129921285,male,30.268358773110233,no,southeast,4\\r\\n52.826870368280645,male,23.266161304216368,yes,northeast,3\\r\\n22.696280988859076,male,30.747310606429753,no,southeast,4\\r\\n29.62202431815819,male,27.26506045359317,no,southwest,5\\r\\n52.301587099678756,male,28.38237211673636,no,northeast,4\\r\\n38.0,male,28.27,no,southeast,1\\r\\n50.017704937825,female,27.041118500025842,no,northeast,1\\r\\n46.645176341056114,female,32.989498971196035,no,southeast,1\\r\\n51.0,female,21.79691627759367,no,southeast,1\\r\\n51.0,female,32.60374745591534,no,southwest,1\\r\\n55.447378294607134,female,38.702848232400406,no,northwest,3\\r\\n39.0,female,23.275,no,northeast,3\\r\\n26.0,female,32.224758220544544,no,southeast,2\\r\\n45.648579994131374,female,27.552434415571426,no,northeast,1\\r\\n47.0,male,25.46,no,northeast,2\\r\\n29.422410158111507,female,24.58535383107876,yes,northwest,3\\r\\n55.507139213344324,female,33.26728262869651,no,northwest,3\\r\\n43.358820139746975,female,28.36306066768538,no,northeast,3\\r\\n18.573694119676762,male,24.79217268735117,no,southeast,1\\r\\n50.75985391180024,female,34.259488691300845,no,northeast,2\\r\\n22.003097914232953,male,26.762886946968557,yes,northwest,3\\r\\n44.65906775882192,female,24.764292211369792,no,southeast,5\\r\\n29.559887549952798,male,27.583175260989616,no,northeast,4\\r\\n39.1448688949316,male,24.617232533027295,no,southeast,5\\r\\n18.0,male,33.77,no,southeast,1\\r\\n50.36218905893939,female,30.33707458774777,no,northwest,4\\r\\n41.724494421192574,female,24.06979625755412,no,southeast,5\\r\\n55.0,female,40.81,no,southeast,3\\r\\n54.678922355029485,female,28.744794006212725,no,northeast,2\\r\\n48.27034043021658,female,37.95214748149978,no,southwest,5\\r\\n31.031339420492436,male,38.964914497809374,yes,southeast,3\\r\\n39.62084818251978,male,27.374407252320083,no,northeast,1\\r\\n38.98542990297271,male,30.40956596798873,no,southwest,4\\r\\n19.0,male,28.7,no,southwest,0\\r\\n20.0,female,29.6,no,southwest,0\\r\\n18.0,male,29.37,no,southeast,1\\r\\n48.0,male,27.321003246881027,no,southeast,1\\r\\n47.410492138094455,male,27.24418609340661,yes,northeast,3\\r\\n19.999477602626175,female,27.484587738648642,no,northeast,2\\r\\n25.793182787231267,male,27.803322325270365,no,southwest,5\\r\\n43.76945891702155,male,24.78646412714931,no,southeast,5\\r\\n21.0,male,22.3,no,southwest,1\\r\\n34.77283771388082,male,29.1872594743343,no,southwest,4\\r\\n39.966695373453305,male,30.832536601152963,no,southwest,4\\r\\n18.669338466730693,female,31.629928333931108,no,northwest,2\\r\\n19.457542997285458,male,32.44336117719785,no,southwest,5\\r\\n29.591505091216376,male,29.08159064488741,no,northwest,1\\r\\n41.0,male,23.94,no,northeast,1\\r\\n52.0,male,33.25,no,northeast,0\\r\\n29.671689249693294,male,29.05035674334833,no,southeast,2\\r\\n33.805737803816925,male,36.74285061005085,yes,southwest,2\\r\\n37.553864487340796,male,28.725040347755108,no,northeast,2\\r\\n50.96734299463258,female,24.693482613270636,no,northwest,4\\r\\n52.0,male,26.4,no,southeast,3\\r\\n23.77553089391636,male,27.10810905793913,no,southwest,5\\r\\n32.1539277412412,male,33.22360074920207,no,southwest,5\\r\\n25.883816887933957,female,26.993840585232668,no,southeast,4\\r\\n19.0,female,25.745,no,northwest,1\\r\\n48.0,male,28.0,yes,southwest,1\\r\\n32.34812009797257,male,27.20557577425503,no,southwest,4\\r\\n59.0,female,31.35,no,northwest,0\\r\\n32.0,female,37.145,no,northeast,3\\r\\n39.22142536784264,female,24.508812186226024,no,southeast,5\\r\\n33.36842170040144,male,33.40666916921756,no,northeast,4\\r\\n25.0,male,33.66,no,southeast,4\\r\\n48.54111633105791,female,30.37492539163863,no,northeast,1\\r\\n32.22029257685305,male,37.66548123619768,no,southeast,2\\r\\n27.0,male,31.13,yes,southeast,1\\r\\n42.866877948938715,female,34.249108741787765,no,southwest,1\\r\\n36.0,male,29.7,no,southeast,0\\r\\n19.0,female,28.9,no,southwest,0\\r\\n34.83588450927011,female,29.720577453649458,no,northwest,3\\r\\n48.87107077420243,male,31.637843907544948,no,southeast,5\\r\\n41.0,female,33.155,no,northeast,3\\r\\n30.417719022175984,female,25.963867401011882,no,northwest,2\\r\\n47.29279403144052,female,32.02571431919835,no,northwest,4\\r\\n31.20683748932876,male,29.93752055083487,no,northeast,5\\r\\n29.989811256643367,male,44.18448204065878,no,southeast,2\\r\\n55.0,male,32.67,no,southeast,1\\r\\n31.13356966897524,male,34.49679827354384,yes,northeast,3\\r\\n58.783494268291975,female,29.231641891771154,no,northeast,1\\r\\n60.55838394850278,male,34.715533678556206,no,northwest,3\\r\\n47.0,female,26.6,no,northeast,2\\r\\n27.008538083951734,male,32.28119011086501,no,southwest,3\\r\\n45.22671393379505,female,25.72782663382087,no,southwest,5\\r\\n26.76021372703949,female,29.580641181118466,no,northwest,3\\r\\n54.225952667301364,female,29.065281187187114,no,northeast,2\\r\\n43.93436839111606,female,25.729954118837853,no,southeast,5\\r\\n51.94033490058107,male,37.25700933577366,yes,southeast,3\\r\\n19.0,male,28.4,no,southwest,1\\r\\n49.0,male,25.84,no,northeast,1\\r\\n38.0,male,34.7,no,southwest,2\\r\\n23.0,female,42.75,yes,northeast,1\\r\\n41.08675489550536,female,29.52439910173911,no,southeast,5\\r\\n23.498217471237634,female,23.982784318112692,no,southwest,3\\r\\n26.32067730611579,male,24.076090307482104,no,southwest,5\\r\\n24.0,female,26.6,no,northeast,0\\r\\n42.48597074366721,male,20.41767121084127,no,northeast,2\\r\\n43.27476142819661,male,37.67950084954252,yes,northeast,4\\r\\n36.0,female,27.74,no,northeast,0\\r\\n43.0,male,27.36,no,northeast,3\\r\\n29.0,female,24.6,no,southwest,2\\r\\n21.0,female,16.815,no,northeast,1\\r\\n20.0,female,22.42,yes,northwest,0\\r\\n48.0,female,36.00299445237961,no,northwest,4\\r\\n33.0,male,27.455,no,northwest,2\\r\\n29.746069727761494,female,33.796117584740976,no,southeast,2\\r\\n40.0,male,34.105,no,northeast,1\\r\\n58.0,male,28.595,no,northwest,0\\r\\n28.180431302745585,male,27.27969488660403,no,northeast,4\\r\\n55.0,female,30.895969953153063,no,northwest,3\\r\\n52.0,female,37.525,no,northwest,2\\r\\n58.38660423841744,female,28.74395968475801,no,southeast,3\\r\\n37.60862206202386,female,34.957820216641785,no,northwest,2\\r\\n28.1496731483249,male,27.146808521815647,no,northwest,3\\r\\n25.0,female,30.021807892534238,no,southeast,4\\r\\n20.886133426152,male,29.470891765865765,no,southwest,5\\r\\n41.0,male,34.2,no,northwest,2\\r\\n19.0,male,20.9,no,southwest,1\\r\\n29.092014621774595,female,31.819693868301155,no,southeast,2\\r\\n42.68473544852669,female,30.431027779046982,no,southeast,1\\r\\n42.0,male,30.0,yes,southwest,0\\r\\n30.0,male,35.53,yes,southeast,0\\r\\n38.0,female,27.265,no,northeast,1\\r\\n28.0,female,17.29,no,northeast,0\\r\\n48.0,female,41.20836272978498,no,northwest,4\\r\\n27.648165382995053,male,34.60889640840205,no,northeast,3\\r\\n35.0,female,29.14747525958026,no,northwest,3\\r\\n58.0,male,49.06,no,southeast,0\\r\\n21.644102352422156,male,26.34456242553103,no,northeast,4\\r\\n42.639794714262564,female,28.38063765944635,no,southeast,5\\r\\n46.0,female,35.53,yes,northeast,0\\r\\n19.359110654782636,male,31.616529500174153,no,southwest,5\\r\\n25.0,female,28.8089998701644,no,southwest,4\\r\\n28.52688084933536,female,26.553335088589254,no,southwest,4\\r\\n49.0,female,23.18,no,northwest,2\\r\\n34.273460196695936,male,32.74872621311951,no,northwest,1\\r\\n41.45141737336615,male,20.814645565437026,yes,northeast,2\\r\\n55.0,female,26.8,no,southwest,1\\r\\n28.0,female,33.11,no,southeast,0\\r\\n27.71901600436747,male,25.244061802638345,no,northeast,2\\r\\n62.0,female,39.16,no,southeast,0\\r\\n24.499394062298503,male,33.63046818193341,no,northeast,4\\r\\n47.80079125748817,male,28.840385143110005,yes,northeast,3\\r\\n59.98479279777727,male,24.38139907897429,no,northwest,1\\r\\n43.0592696362606,female,25.484141870062334,no,southwest,5\\r\\n43.055038930940775,female,26.90166062452142,no,southeast,5\\r\\n21.59927135611761,male,31.9426777025392,yes,northwest,3\\r\\n31.398316868269873,male,27.987629711019373,no,northeast,4\\r\\n43.0,female,35.64,no,southeast,1\\r\\n18.0,male,35.2,no,southeast,1\\r\\n33.07781425118026,female,28.877798799584763,no,northwest,1\\r\\n52.0,male,32.575287052538116,no,southwest,3\\r\\n19.0,male,34.9,yes,southwest,0\\r\\n52.03965045599129,male,32.06206010615138,no,southwest,3\\r\\n30.0,female,21.945,no,northeast,1\\r\\n57.0,female,22.23,no,northeast,0\\r\\n39.0,male,33.16116743491496,no,southeast,5\\r\\n38.0,male,28.025,no,northeast,1\\r\\n20.491989011060664,male,30.047369380581927,no,southeast,4\\r\\n59.0,female,26.695,no,northwest,3\\r\\n22.493413894283734,male,35.34505762186905,yes,northwest,3\\r\\n42.57144898786913,male,24.746465423103785,no,southeast,5\\r\\n23.251739876830648,male,31.652099074422345,no,northeast,4\\r\\n49.0,male,36.85,no,southeast,0\\r\\n53.87527045067523,male,40.185822170052695,yes,northeast,3\\r\\n30.0,male,22.99,yes,northwest,2\\r\\n47.79513423781955,female,31.73559482519287,no,northeast,1\\r\\n44.0,female,25.252475548907398,no,southwest,1\\r\\n27.0,female,25.175,no,northeast,0\\r\\n30.81853505708706,male,30.838603055576318,no,southwest,5\\r\\n50.42545153795218,female,29.10455259736358,no,southwest,1\\r\\n45.26404234524662,male,26.695765602642684,no,southeast,5\\r\\n37.0,male,26.6500687167236,no,southeast,2\\r\\n33.96556182904155,male,29.603457671119468,no,southwest,4\\r\\n60.0,female,24.035,no,northwest,0\\r\\n41.536257077523814,male,21.74930962543239,no,southeast,5\\r\\n51.0,female,36.67,no,northwest,2\\r\\n51.902634494141715,male,33.62187380997962,yes,northeast,4\\r\\n36.563279951507596,male,41.41822375533108,yes,southeast,3\\r\\n19.0,male,20.615,no,northwest,2\\r\\n39.80226468311726,male,33.18593630406525,no,northwest,1\\r\\n56.0,female,39.82,no,southeast,0\\r\\n45.0,male,24.035,no,northeast,2\\r\\n37.0,male,46.53,no,southeast,3\\r\\n47.15984528685419,female,30.2953864084073,no,northwest,4\\r\\n38.524726622928526,male,37.2793367960959,no,northwest,1\\r\\n49.308834443116055,male,42.564014301974154,no,southeast,5\\r\\n18.0,male,38.17,yes,southeast,0\\r\\n33.0,male,38.79751310467492,no,southwest,5\\r\\n53.0,male,36.1,no,southwest,1\\r\\n31.675510239654756,female,26.565679573564008,yes,northeast,1\\r\\n18.996737767581564,male,31.222085319827034,no,southeast,4\\r\\n49.47859632561875,female,40.18771040600426,no,northeast,1\\r\\n32.12198109484859,male,33.13645632136194,no,southwest,5\\r\\n18.0,male,25.175,yes,northeast,0\\r\\n24.13781786100128,male,24.57537600888233,no,southwest,5\\r\\n42.98513812552373,male,20.868366069843596,yes,southeast,1\\r\\n32.0,male,28.93,yes,southeast,1\\r\\n19.897070104603145,male,29.959061208473763,no,southwest,5\\r\\n26.165395965741684,male,25.633527807401514,no,southwest,5\\r\\n25.95295440109966,male,28.368522408754668,no,southeast,1\\r\\n22.0,male,37.62,yes,southeast,1\\r\\n46.12920107473667,male,26.062708851964565,no,southeast,5\\r\\n18.0,female,20.79,no,southeast,0\\r\\n22.374493408452953,male,31.825415666779513,no,southwest,3\\r\\n28.283518846582165,male,28.434451682966515,no,northeast,2\\r\\n40.60050108968391,female,31.03795926066409,no,northeast,3\\r\\n64.0,female,34.728082767176346,no,northwest,3\\r\\n36.44014287628749,male,26.246875989361993,no,northeast,2\\r\\n42.0,male,35.8,no,southwest,2\\r\\n42.33305227168957,female,32.642419882991085,no,southeast,1\\r\\n19.0,male,30.4,no,southwest,0\\r\\n29.0,male,33.345,no,northwest,2\\r\\n32.961398787097856,male,42.131721570330114,no,northeast,5\\r\\n26.0,female,29.355,no,northeast,2\\r\\n19.0,female,40.5,no,southwest,0\\r\\n24.0,female,30.21,no,northwest,3\\r\\n36.0,male,30.875,no,northwest,1\\r\\n44.031055811937485,male,30.398462708752966,no,northeast,4\\r\\n33.94481921585227,male,26.7956858788255,no,southwest,5\\r\\n19.0,female,33.11,yes,southeast,0\\r\\n45.00771089131101,female,25.707386349855696,no,southwest,5\\r\\n47.45813882726004,female,28.08443043423089,no,northwest,4\\r\\n41.37806082198872,male,28.394272758620527,yes,northwest,3\\r\\n19.960256784374906,male,36.666156988749215,no,southwest,5\\r\\n48.0,female,27.36,no,northeast,1\\r\\n59.0,male,25.46,no,northwest,0\\r\\n56.0,female,41.91,no,southeast,0\\r\\n34.78854551230652,male,36.17189536934789,no,northwest,2\\r\\n39.05076044048621,male,31.27631676290771,no,northeast,4\\r\\n54.0,male,34.21,yes,southeast,2\\r\\n25.68396190830685,male,29.390961983745797,no,northeast,4\\r\\n48.067606061039506,female,28.845386066474905,no,northwest,4\\r\\n30.0,male,25.46,no,northeast,0\\r\\n32.0,male,30.03,no,southeast,1\\r\\n39.40905409537306,male,24.83831471570325,no,southeast,2\\r\\n55.769257664593205,male,35.01432234793986,no,northeast,1\\r\\n35.0,female,28.025,yes,northwest,0\\r\\n59.59193515818845,female,30.492264039778902,no,southeast,3\\r\\n47.0,female,23.6,no,southwest,1\\r\\n34.24841346508297,female,26.313881065175572,no,northeast,2\\r\\n32.64794584432693,male,32.796445003429625,no,southwest,5\\r\\n58.0,male,34.865,no,northeast,0\\r\\n27.432812020403997,male,24.224374936053866,no,southwest,5\\r\\n40.0,female,32.775,yes,northwest,2\\r\\n42.67343390264862,female,31.66244591830606,no,southeast,1\\r\\n32.18449885770988,female,29.124258676263153,no,southeast,4\\r\\n25.596964573353564,male,27.85846966573688,no,northeast,3\\r\\n52.0,male,36.7,no,southwest,0\\r\\n31.72706596329175,female,28.190712665127162,no,southwest,4\\r\\n28.0,male,33.82,no,northwest,0\\r\\n33.0,male,35.45883606324017,no,northeast,5\\r\\n45.68027015104603,male,25.084355513303343,no,northeast,3\\r\\n24.0,male,33.63,no,northeast,4\\r\\n52.12886056546632,female,38.060425797643525,no,southwest,2\\r\\n31.645771200333563,male,32.988109842318266,no,northeast,5\\r\\n26.265538209034958,male,25.128687300127744,no,southwest,5\\r\\n52.0,female,23.18,no,northeast,0\\r\\n39.055834984947154,female,34.189346135223666,no,southeast,5\\r\\n62.0,male,38.83,no,southeast,0\\r\\n38.0,female,19.95,no,northeast,2\\r\\n29.0,male,27.2,no,southwest,0\\r\\n31.0,female,30.495,no,northeast,3\\r\\n32.0,female,29.59,no,southeast,1\\r\\n56.0,male,32.11,no,northeast,1\\r\\n18.0,male,31.68,yes,southeast,2\\r\\n39.20930977216143,female,24.473858692685734,no,southeast,5\\r\\n30.486641953149057,male,37.21534391592239,no,northeast,4\\r\\n40.0,female,33.17105013382957,no,northeast,1\\r\\n55.77693849372943,female,33.24755927490571,no,northwest,4\\r\\n50.0,male,27.455,no,northeast,1\\r\\n59.0,male,41.14,yes,southeast,1\\r\\n25.77144088113765,male,27.837837601193982,no,southwest,5\\r\\n48.05979031064523,female,28.73956080613645,no,northwest,4\\r\\n32.0,female,41.1,no,southwest,0\\r\\n18.09557502431077,male,32.53994943712041,no,southeast,1\\r\\n47.56821759366984,female,35.61035198161303,no,northwest,4\\r\\n62.0,female,32.965,no,northwest,3\\r\\n51.78760950110969,female,29.265481804882644,no,northeast,1\\r\\n48.29557478113383,male,33.73760030910529,no,northeast,4\\r\\n24.0,male,28.5,yes,northeast,0\\r\\n36.80272780242946,male,35.95672071534186,no,northeast,4\\r\\n50.0,male,37.07,no,southeast,1\\r\\n21.90121104947546,male,28.082201207446804,no,northeast,4\\r\\n34.26032918056653,male,36.8524050675887,no,northeast,4\\r\\n20.869485197711573,male,29.4829929469134,no,southwest,5\\r\\n30.741175325155496,male,29.958524515039752,no,northeast,3\\r\\n22.29052528423292,male,25.98391556253124,no,northeast,4\\r\\n48.825341614604994,female,41.428081987505195,no,northwest,4\\r\\n29.0,male,37.29,no,southeast,2\\r\\n44.0,female,26.16601651740539,no,northeast,1\\r\\n44.56417875445185,female,24.57367185355663,no,southwest,5\\r\\n52.0,male,41.8,yes,southeast,2\\r\\n52.0,male,34.1,no,southeast,0\\r\\n39.63860552266393,female,25.954024452612593,no,southeast,5\\r\\n33.115226060113116,male,38.66823404049889,no,northeast,4\\r\\n39.05299333700041,female,24.236923500825093,no,southeast,5\\r\\n24.0,female,27.72,no,southeast,0\\r\\n63.0,male,21.66,no,northwest,1\\r\\n33.0,male,38.013996413644136,no,northeast,5\\r\\n34.648579994131374,female,34.18353189772102,no,southeast,3\\r\\n36.0,female,26.98486087605003,no,northwest,1\\r\\n33.840129932857074,female,38.78975813168605,no,northeast,3\\r\\n26.0,male,32.49,no,northeast,1\\r\\n28.766579744531903,male,25.68773839048133,no,northeast,2\\r\\n27.0,female,23.21,no,southeast,1\\r\\n58.0,female,28.215,no,northwest,0\\r\\n31.90788732160619,male,27.974560212620418,no,southwest,5\\r\\n53.0,female,23.75,no,northeast,2\\r\\n19.614438063106398,male,33.76127973009376,no,southwest,5\\r\\n51.277308658056626,female,42.664485718264764,yes,southeast,2\\r\\n27.0,male,32.67,no,southeast,0\\r\\n50.219651753487305,female,28.788851921703667,no,northwest,4\\r\\n37.236480385527436,male,23.57471556052929,no,northeast,3\\r\\n51.0,female,21.56,no,southeast,1\\r\\n22.0,female,36.0,no,southwest,0\\r\\n19.10124041242851,male,28.753379224829192,no,southwest,5\\r\\n35.0,male,27.74,yes,northeast,2\\r\\n48.51625415025045,male,35.58210616166,no,southeast,5\\r\\n49.68493443868356,female,36.14805941142875,no,northwest,4\\r\\n49.67495476352848,female,35.714323254010885,no,northwest,4\\r\\n28.0,male,33.0,no,southeast,3\\r\\n35.26947104954077,female,29.47564903498469,no,southwest,4\\r\\n25.249666114980172,male,22.60175897495561,no,southeast,1\\r\\n26.0,male,29.74880311963447,no,northwest,1\\r\\n18.0,female,31.92,no,northeast,0\\r\\n53.38005004038246,female,44.121008167991015,no,southwest,2\\r\\n42.0,female,29.0,no,southwest,1\\r\\n59.0,female,30.755342801786043,no,southeast,3\\r\\n50.0085733694949,male,28.996799100865303,no,northeast,4\\r\\n59.0,male,31.79,no,southeast,2\\r\\n54.1556795012299,male,31.83554868649082,no,northwest,3\\r\\n23.0,male,50.38,no,southeast,1\\r\\n52.17411195222713,male,41.896797569143175,no,northwest,3\\r\\n26.891522677491757,male,32.00790064425615,no,northeast,3\\r\\n49.02993544223353,male,31.474980471324983,no,northeast,1\\r\\n53.0,male,29.48,no,southeast,0\\r\\n61.555393931582735,female,35.06710936834793,no,northwest,3\\r\\n29.0,male,31.73,no,northwest,2\\r\\n31.0,male,20.4,no,southwest,0\\r\\n53.0,female,33.25,no,northeast,0\\r\\n18.09610330018732,female,38.25111512052661,no,southeast,2\\r\\n64.0,male,40.48,no,southeast,0\\r\\n20.0,male,39.4,yes,southwest,2\\r\\n54.25279853975733,female,30.429424500011294,no,northwest,4\\r\\n53.0,male,41.47,no,southeast,0\\r\\n47.39960776290236,female,31.17609352310649,no,northwest,4\\r\\n46.0,female,27.72,no,southeast,1\\r\\n51.740402529401834,male,45.464992520539084,no,southeast,5\\r\\n49.86516124817387,male,32.328096061986386,no,northeast,4\\r\\n33.748214931213035,male,29.310214208254433,no,southwest,4\\r\\n57.0,female,28.785,no,northeast,4\\r\\n32.894983665111184,male,41.67013647252272,no,northeast,5\\r\\n52.649831973523455,male,39.43636101446003,no,northwest,3\\r\\n27.438717028038532,male,24.568168531048258,no,southwest,5\\r\\n54.0,female,26.866970207934525,no,northwest,3\\r\\n47.96463756424451,female,35.362964351051815,no,northwest,4\\r\\n31.71383257264303,male,31.088885942791464,no,southwest,5\\r\\n34.0,female,37.335,no,northwest,2\\r\\n52.16594349531239,male,26.292136728046945,yes,northeast,3\\r\\n49.346578838886366,female,38.77708242185296,no,northwest,4\\r\\n41.17283942765285,female,35.41003526004825,yes,southeast,2\\r\\n54.15528811564545,male,33.706940990251994,yes,northeast,3\\r\\n30.0,male,37.43,no,northeast,3\\r\\n42.47840324025543,male,30.086286341860536,no,southeast,5\\r\\n40.05790181935321,female,28.717503364192776,no,northeast,3\\r\\n49.91346750980061,male,31.459773894528535,no,southeast,3\\r\\n21.0,female,25.8,no,southwest,0\\r\\n48.0,female,32.64391574873515,no,northwest,4\\r\\n20.67965641410498,male,32.23428661665464,no,southeast,4\\r\\n34.32449182564467,male,28.62983205382127,no,northwest,4\\r\\n37.0,male,34.1,yes,southwest,4\\r\\n47.0,male,19.19,no,northeast,1\\r\\n63.0,male,41.325,no,northwest,3\\r\\n31.724569911757737,male,25.861189238826597,yes,northeast,2\\r\\n64.0,male,26.41,no,northeast,0\\r\\n36.0,female,29.92,no,southeast,1\\r\\n39.0,female,23.87,no,southeast,5\\r\\n23.0,male,41.91,no,southeast,0\\r\\n22.0,male,20.38664340002465,no,southwest,3\\r\\n38.180511088702175,male,29.4299560509057,no,northwest,4\\r\\n47.548448013027865,male,29.14568010472037,no,southeast,5\\r\\n43.34155576377692,male,24.20451583873661,no,southeast,5\\r\\n44.85228025766126,female,24.55644577013512,no,southeast,5\\r\\n19.62552797106271,male,29.547674876160006,no,southwest,5\\r\\n38.0,female,40.565,no,northwest,1\\r\\n21.0,male,35.53,no,southeast,0\\r\\n31.0,male,25.9,yes,southwest,3\\r\\n18.0,male,26.18,no,southeast,2\\r\\n63.0,female,21.66,no,northeast,0\\r\\n20.0,male,40.47,no,northeast,0\\r\\n28.86239201502918,male,36.317576677397945,no,northeast,4\\r\\n55.703462715704745,female,36.05774343698793,no,northwest,3\\r\\n37.0,male,30.875,no,northwest,3\\r\\n42.9867631422411,male,38.09057714142306,yes,southeast,2\\r\\n51.0,female,20.6,no,southwest,0\\r\\n39.227257069558846,male,23.93265802060694,no,southeast,5\\r\\n41.0,male,25.877197615019853,no,southwest,1\\r\\n20.0,female,26.84,yes,southeast,1\\r\\n45.84236772426334,male,27.191010591197198,no,northwest,3\\r\\n39.057922381323635,female,35.05956815895829,no,northeast,2\\r\\n28.17250290983463,male,36.43767799712967,no,northwest,2\\r\\n45.0,male,30.495,no,northwest,2\\r\\n46.68054469119278,male,30.880323190814185,no,northwest,1\\r\\n62.698169124072486,female,37.73698596303542,no,northwest,3\\r\\n43.0,female,25.27,yes,northeast,1\\r\\n38.0,male,32.283975640057875,no,northeast,2\\r\\n63.64153768051855,female,38.86587631400689,no,northwest,3\\r\\n31.939822128081556,male,30.82136065636144,no,southwest,5\\r\\n33.0,male,35.75,yes,southeast,1\\r\\n24.0,male,31.065,yes,northeast,0\\r\\n55.96301397336285,male,29.513112331560233,no,southwest,4\\r\\n38.0,female,28.93,no,southeast,1\\r\\n41.0,female,33.06,no,northwest,2\\r\\n29.0,male,22.895,yes,northeast,0\\r\\n50.90045632847865,male,45.03970979820634,no,southeast,5\\r\\n26.45111938427207,male,24.09348258456961,no,southwest,5\\r\\n51.0,male,24.795,yes,northwest,2\\r\\n45.09202758561196,male,38.59618069869825,no,northwest,3\\r\\n57.0,female,30.495,no,northwest,0\\r\\n39.310292832798986,female,24.765194822625077,no,southeast,5\\r\\n45.27847265426261,male,30.894663827777244,no,southeast,5\\r\\n56.70215818144494,male,22.035971820607866,no,northeast,1\\r\\n40.0,male,41.23,no,northeast,1\\r\\n21.81822366847188,male,26.129567425947737,no,northeast,4\\r\\n51.0,male,27.74,no,northeast,1\\r\\n33.0,male,42.4,no,southwest,5\\r\\n47.769998942633244,male,29.064614737914347,no,northeast,4\\r\\n41.53073790514838,female,24.260852120322937,no,southeast,5\\r\\n36.0,male,33.4,yes,southwest,2\\r\\n'}"
            ]
          },
          "metadata": {},
          "execution_count": 5
        }
      ]
    },
    {
      "cell_type": "code",
      "source": [
        "\n",
        "\n",
        "for fn in uploaded.keys():\n",
        "  print('User uploaded file \"{name}\" with length {length} bytes'.format(\n",
        "      name=fn, length=len(uploaded[fn])))"
      ],
      "metadata": {
        "colab": {
          "base_uri": "https://localhost:8080/"
        },
        "id": "4efpFWXugpMe",
        "outputId": "dfd01f60-8ba9-498e-9148-07660fdfb846"
      },
      "execution_count": 4,
      "outputs": [
        {
          "output_type": "stream",
          "name": "stdout",
          "text": [
            "User uploaded file \"Test_Data.csv\" with length 23660 bytes\n"
          ]
        }
      ]
    },
    {
      "cell_type": "code",
      "source": [
        "# Loading Train dataset:\n",
        "train_data = pd.read_csv('Test_Data.csv')\n",
        "# Top 5 records:\n",
        "train_data.head()"
      ],
      "metadata": {
        "colab": {
          "base_uri": "https://localhost:8080/",
          "height": 206
        },
        "id": "G9N2zPuHgpQK",
        "outputId": "f63c666e-874e-4368-ec92-b8b3941c79da"
      },
      "execution_count": 6,
      "outputs": [
        {
          "output_type": "execute_result",
          "data": {
            "text/plain": [
              "         age     sex        bmi smoker     region  children\n",
              "0  40.000000    male  29.900000     no  southwest         2\n",
              "1  47.000000    male  32.300000     no  southwest         1\n",
              "2  54.000000  female  28.880000     no  northeast         2\n",
              "3  37.000000    male  30.568094     no  northeast         3\n",
              "4  59.130049    male  33.132854    yes  northeast         4"
            ],
            "text/html": [
              "\n",
              "  <div id=\"df-e5a15258-4198-4a60-a692-5fea0bc8eceb\">\n",
              "    <div class=\"colab-df-container\">\n",
              "      <div>\n",
              "<style scoped>\n",
              "    .dataframe tbody tr th:only-of-type {\n",
              "        vertical-align: middle;\n",
              "    }\n",
              "\n",
              "    .dataframe tbody tr th {\n",
              "        vertical-align: top;\n",
              "    }\n",
              "\n",
              "    .dataframe thead th {\n",
              "        text-align: right;\n",
              "    }\n",
              "</style>\n",
              "<table border=\"1\" class=\"dataframe\">\n",
              "  <thead>\n",
              "    <tr style=\"text-align: right;\">\n",
              "      <th></th>\n",
              "      <th>age</th>\n",
              "      <th>sex</th>\n",
              "      <th>bmi</th>\n",
              "      <th>smoker</th>\n",
              "      <th>region</th>\n",
              "      <th>children</th>\n",
              "    </tr>\n",
              "  </thead>\n",
              "  <tbody>\n",
              "    <tr>\n",
              "      <th>0</th>\n",
              "      <td>40.000000</td>\n",
              "      <td>male</td>\n",
              "      <td>29.900000</td>\n",
              "      <td>no</td>\n",
              "      <td>southwest</td>\n",
              "      <td>2</td>\n",
              "    </tr>\n",
              "    <tr>\n",
              "      <th>1</th>\n",
              "      <td>47.000000</td>\n",
              "      <td>male</td>\n",
              "      <td>32.300000</td>\n",
              "      <td>no</td>\n",
              "      <td>southwest</td>\n",
              "      <td>1</td>\n",
              "    </tr>\n",
              "    <tr>\n",
              "      <th>2</th>\n",
              "      <td>54.000000</td>\n",
              "      <td>female</td>\n",
              "      <td>28.880000</td>\n",
              "      <td>no</td>\n",
              "      <td>northeast</td>\n",
              "      <td>2</td>\n",
              "    </tr>\n",
              "    <tr>\n",
              "      <th>3</th>\n",
              "      <td>37.000000</td>\n",
              "      <td>male</td>\n",
              "      <td>30.568094</td>\n",
              "      <td>no</td>\n",
              "      <td>northeast</td>\n",
              "      <td>3</td>\n",
              "    </tr>\n",
              "    <tr>\n",
              "      <th>4</th>\n",
              "      <td>59.130049</td>\n",
              "      <td>male</td>\n",
              "      <td>33.132854</td>\n",
              "      <td>yes</td>\n",
              "      <td>northeast</td>\n",
              "      <td>4</td>\n",
              "    </tr>\n",
              "  </tbody>\n",
              "</table>\n",
              "</div>\n",
              "      <button class=\"colab-df-convert\" onclick=\"convertToInteractive('df-e5a15258-4198-4a60-a692-5fea0bc8eceb')\"\n",
              "              title=\"Convert this dataframe to an interactive table.\"\n",
              "              style=\"display:none;\">\n",
              "        \n",
              "  <svg xmlns=\"http://www.w3.org/2000/svg\" height=\"24px\"viewBox=\"0 0 24 24\"\n",
              "       width=\"24px\">\n",
              "    <path d=\"M0 0h24v24H0V0z\" fill=\"none\"/>\n",
              "    <path d=\"M18.56 5.44l.94 2.06.94-2.06 2.06-.94-2.06-.94-.94-2.06-.94 2.06-2.06.94zm-11 1L8.5 8.5l.94-2.06 2.06-.94-2.06-.94L8.5 2.5l-.94 2.06-2.06.94zm10 10l.94 2.06.94-2.06 2.06-.94-2.06-.94-.94-2.06-.94 2.06-2.06.94z\"/><path d=\"M17.41 7.96l-1.37-1.37c-.4-.4-.92-.59-1.43-.59-.52 0-1.04.2-1.43.59L10.3 9.45l-7.72 7.72c-.78.78-.78 2.05 0 2.83L4 21.41c.39.39.9.59 1.41.59.51 0 1.02-.2 1.41-.59l7.78-7.78 2.81-2.81c.8-.78.8-2.07 0-2.86zM5.41 20L4 18.59l7.72-7.72 1.47 1.35L5.41 20z\"/>\n",
              "  </svg>\n",
              "      </button>\n",
              "      \n",
              "  <style>\n",
              "    .colab-df-container {\n",
              "      display:flex;\n",
              "      flex-wrap:wrap;\n",
              "      gap: 12px;\n",
              "    }\n",
              "\n",
              "    .colab-df-convert {\n",
              "      background-color: #E8F0FE;\n",
              "      border: none;\n",
              "      border-radius: 50%;\n",
              "      cursor: pointer;\n",
              "      display: none;\n",
              "      fill: #1967D2;\n",
              "      height: 32px;\n",
              "      padding: 0 0 0 0;\n",
              "      width: 32px;\n",
              "    }\n",
              "\n",
              "    .colab-df-convert:hover {\n",
              "      background-color: #E2EBFA;\n",
              "      box-shadow: 0px 1px 2px rgba(60, 64, 67, 0.3), 0px 1px 3px 1px rgba(60, 64, 67, 0.15);\n",
              "      fill: #174EA6;\n",
              "    }\n",
              "\n",
              "    [theme=dark] .colab-df-convert {\n",
              "      background-color: #3B4455;\n",
              "      fill: #D2E3FC;\n",
              "    }\n",
              "\n",
              "    [theme=dark] .colab-df-convert:hover {\n",
              "      background-color: #434B5C;\n",
              "      box-shadow: 0px 1px 3px 1px rgba(0, 0, 0, 0.15);\n",
              "      filter: drop-shadow(0px 1px 2px rgba(0, 0, 0, 0.3));\n",
              "      fill: #FFFFFF;\n",
              "    }\n",
              "  </style>\n",
              "\n",
              "      <script>\n",
              "        const buttonEl =\n",
              "          document.querySelector('#df-e5a15258-4198-4a60-a692-5fea0bc8eceb button.colab-df-convert');\n",
              "        buttonEl.style.display =\n",
              "          google.colab.kernel.accessAllowed ? 'block' : 'none';\n",
              "\n",
              "        async function convertToInteractive(key) {\n",
              "          const element = document.querySelector('#df-e5a15258-4198-4a60-a692-5fea0bc8eceb');\n",
              "          const dataTable =\n",
              "            await google.colab.kernel.invokeFunction('convertToInteractive',\n",
              "                                                     [key], {});\n",
              "          if (!dataTable) return;\n",
              "\n",
              "          const docLinkHtml = 'Like what you see? Visit the ' +\n",
              "            '<a target=\"_blank\" href=https://colab.research.google.com/notebooks/data_table.ipynb>data table notebook</a>'\n",
              "            + ' to learn more about interactive tables.';\n",
              "          element.innerHTML = '';\n",
              "          dataTable['output_type'] = 'display_data';\n",
              "          await google.colab.output.renderOutput(dataTable, element);\n",
              "          const docLink = document.createElement('div');\n",
              "          docLink.innerHTML = docLinkHtml;\n",
              "          element.appendChild(docLink);\n",
              "        }\n",
              "      </script>\n",
              "    </div>\n",
              "  </div>\n",
              "  "
            ]
          },
          "metadata": {},
          "execution_count": 6
        }
      ]
    },
    {
      "cell_type": "code",
      "source": [
        "# Shape of dataset:\n",
        "train_data.shape"
      ],
      "metadata": {
        "colab": {
          "base_uri": "https://localhost:8080/"
        },
        "id": "wUwibHc1gpTT",
        "outputId": "ffc1fbea-96e7-4c8b-fae8-f44653a5ab3d"
      },
      "execution_count": 7,
      "outputs": [
        {
          "output_type": "execute_result",
          "data": {
            "text/plain": [
              "(492, 6)"
            ]
          },
          "metadata": {},
          "execution_count": 7
        }
      ]
    },
    {
      "cell_type": "code",
      "source": [
        "train_data.isnull().sum()"
      ],
      "metadata": {
        "colab": {
          "base_uri": "https://localhost:8080/"
        },
        "id": "YZl8gqqmgpVe",
        "outputId": "eef02f9c-eaed-4903-a871-98cb344a9df9"
      },
      "execution_count": 8,
      "outputs": [
        {
          "output_type": "execute_result",
          "data": {
            "text/plain": [
              "age         0\n",
              "sex         0\n",
              "bmi         0\n",
              "smoker      0\n",
              "region      0\n",
              "children    0\n",
              "dtype: int64"
            ]
          },
          "metadata": {},
          "execution_count": 8
        }
      ]
    },
    {
      "cell_type": "code",
      "source": [
        "# Insights of dataset:\n",
        "train_data.info()"
      ],
      "metadata": {
        "colab": {
          "base_uri": "https://localhost:8080/"
        },
        "id": "Q_XxiVERgpYe",
        "outputId": "46585609-612c-4c49-cefe-ed3791f13f30"
      },
      "execution_count": 12,
      "outputs": [
        {
          "output_type": "stream",
          "name": "stdout",
          "text": [
            "<class 'pandas.core.frame.DataFrame'>\n",
            "RangeIndex: 492 entries, 0 to 491\n",
            "Data columns (total 6 columns):\n",
            " #   Column    Non-Null Count  Dtype  \n",
            "---  ------    --------------  -----  \n",
            " 0   age       492 non-null    float64\n",
            " 1   sex       492 non-null    object \n",
            " 2   bmi       492 non-null    float64\n",
            " 3   smoker    492 non-null    object \n",
            " 4   region    492 non-null    object \n",
            " 5   children  492 non-null    int64  \n",
            "dtypes: float64(2), int64(1), object(3)\n",
            "memory usage: 23.2+ KB\n"
          ]
        }
      ]
    },
    {
      "cell_type": "code",
      "source": [
        "# Description of dataset (Numerical):\n",
        "train_data.describe()"
      ],
      "metadata": {
        "colab": {
          "base_uri": "https://localhost:8080/",
          "height": 300
        },
        "id": "mqMCCKp2gpbm",
        "outputId": "5428f364-6793-40c5-f0a4-ccdfc056ebfb"
      },
      "execution_count": 13,
      "outputs": [
        {
          "output_type": "execute_result",
          "data": {
            "text/plain": [
              "              age         bmi    children\n",
              "count  492.000000  492.000000  492.000000\n",
              "mean    38.840527   30.682976    2.512195\n",
              "std     12.408765    5.426067    1.684315\n",
              "min     18.000000   16.815000    0.000000\n",
              "25%     28.754692   26.991596    1.000000\n",
              "50%     39.051877   29.979531    2.000000\n",
              "75%     49.000001   33.776529    4.000000\n",
              "max     64.000000   50.380000    5.000000"
            ],
            "text/html": [
              "\n",
              "  <div id=\"df-030e7a2c-5b0d-45ea-bc42-6b0b600050a7\">\n",
              "    <div class=\"colab-df-container\">\n",
              "      <div>\n",
              "<style scoped>\n",
              "    .dataframe tbody tr th:only-of-type {\n",
              "        vertical-align: middle;\n",
              "    }\n",
              "\n",
              "    .dataframe tbody tr th {\n",
              "        vertical-align: top;\n",
              "    }\n",
              "\n",
              "    .dataframe thead th {\n",
              "        text-align: right;\n",
              "    }\n",
              "</style>\n",
              "<table border=\"1\" class=\"dataframe\">\n",
              "  <thead>\n",
              "    <tr style=\"text-align: right;\">\n",
              "      <th></th>\n",
              "      <th>age</th>\n",
              "      <th>bmi</th>\n",
              "      <th>children</th>\n",
              "    </tr>\n",
              "  </thead>\n",
              "  <tbody>\n",
              "    <tr>\n",
              "      <th>count</th>\n",
              "      <td>492.000000</td>\n",
              "      <td>492.000000</td>\n",
              "      <td>492.000000</td>\n",
              "    </tr>\n",
              "    <tr>\n",
              "      <th>mean</th>\n",
              "      <td>38.840527</td>\n",
              "      <td>30.682976</td>\n",
              "      <td>2.512195</td>\n",
              "    </tr>\n",
              "    <tr>\n",
              "      <th>std</th>\n",
              "      <td>12.408765</td>\n",
              "      <td>5.426067</td>\n",
              "      <td>1.684315</td>\n",
              "    </tr>\n",
              "    <tr>\n",
              "      <th>min</th>\n",
              "      <td>18.000000</td>\n",
              "      <td>16.815000</td>\n",
              "      <td>0.000000</td>\n",
              "    </tr>\n",
              "    <tr>\n",
              "      <th>25%</th>\n",
              "      <td>28.754692</td>\n",
              "      <td>26.991596</td>\n",
              "      <td>1.000000</td>\n",
              "    </tr>\n",
              "    <tr>\n",
              "      <th>50%</th>\n",
              "      <td>39.051877</td>\n",
              "      <td>29.979531</td>\n",
              "      <td>2.000000</td>\n",
              "    </tr>\n",
              "    <tr>\n",
              "      <th>75%</th>\n",
              "      <td>49.000001</td>\n",
              "      <td>33.776529</td>\n",
              "      <td>4.000000</td>\n",
              "    </tr>\n",
              "    <tr>\n",
              "      <th>max</th>\n",
              "      <td>64.000000</td>\n",
              "      <td>50.380000</td>\n",
              "      <td>5.000000</td>\n",
              "    </tr>\n",
              "  </tbody>\n",
              "</table>\n",
              "</div>\n",
              "      <button class=\"colab-df-convert\" onclick=\"convertToInteractive('df-030e7a2c-5b0d-45ea-bc42-6b0b600050a7')\"\n",
              "              title=\"Convert this dataframe to an interactive table.\"\n",
              "              style=\"display:none;\">\n",
              "        \n",
              "  <svg xmlns=\"http://www.w3.org/2000/svg\" height=\"24px\"viewBox=\"0 0 24 24\"\n",
              "       width=\"24px\">\n",
              "    <path d=\"M0 0h24v24H0V0z\" fill=\"none\"/>\n",
              "    <path d=\"M18.56 5.44l.94 2.06.94-2.06 2.06-.94-2.06-.94-.94-2.06-.94 2.06-2.06.94zm-11 1L8.5 8.5l.94-2.06 2.06-.94-2.06-.94L8.5 2.5l-.94 2.06-2.06.94zm10 10l.94 2.06.94-2.06 2.06-.94-2.06-.94-.94-2.06-.94 2.06-2.06.94z\"/><path d=\"M17.41 7.96l-1.37-1.37c-.4-.4-.92-.59-1.43-.59-.52 0-1.04.2-1.43.59L10.3 9.45l-7.72 7.72c-.78.78-.78 2.05 0 2.83L4 21.41c.39.39.9.59 1.41.59.51 0 1.02-.2 1.41-.59l7.78-7.78 2.81-2.81c.8-.78.8-2.07 0-2.86zM5.41 20L4 18.59l7.72-7.72 1.47 1.35L5.41 20z\"/>\n",
              "  </svg>\n",
              "      </button>\n",
              "      \n",
              "  <style>\n",
              "    .colab-df-container {\n",
              "      display:flex;\n",
              "      flex-wrap:wrap;\n",
              "      gap: 12px;\n",
              "    }\n",
              "\n",
              "    .colab-df-convert {\n",
              "      background-color: #E8F0FE;\n",
              "      border: none;\n",
              "      border-radius: 50%;\n",
              "      cursor: pointer;\n",
              "      display: none;\n",
              "      fill: #1967D2;\n",
              "      height: 32px;\n",
              "      padding: 0 0 0 0;\n",
              "      width: 32px;\n",
              "    }\n",
              "\n",
              "    .colab-df-convert:hover {\n",
              "      background-color: #E2EBFA;\n",
              "      box-shadow: 0px 1px 2px rgba(60, 64, 67, 0.3), 0px 1px 3px 1px rgba(60, 64, 67, 0.15);\n",
              "      fill: #174EA6;\n",
              "    }\n",
              "\n",
              "    [theme=dark] .colab-df-convert {\n",
              "      background-color: #3B4455;\n",
              "      fill: #D2E3FC;\n",
              "    }\n",
              "\n",
              "    [theme=dark] .colab-df-convert:hover {\n",
              "      background-color: #434B5C;\n",
              "      box-shadow: 0px 1px 3px 1px rgba(0, 0, 0, 0.15);\n",
              "      filter: drop-shadow(0px 1px 2px rgba(0, 0, 0, 0.3));\n",
              "      fill: #FFFFFF;\n",
              "    }\n",
              "  </style>\n",
              "\n",
              "      <script>\n",
              "        const buttonEl =\n",
              "          document.querySelector('#df-030e7a2c-5b0d-45ea-bc42-6b0b600050a7 button.colab-df-convert');\n",
              "        buttonEl.style.display =\n",
              "          google.colab.kernel.accessAllowed ? 'block' : 'none';\n",
              "\n",
              "        async function convertToInteractive(key) {\n",
              "          const element = document.querySelector('#df-030e7a2c-5b0d-45ea-bc42-6b0b600050a7');\n",
              "          const dataTable =\n",
              "            await google.colab.kernel.invokeFunction('convertToInteractive',\n",
              "                                                     [key], {});\n",
              "          if (!dataTable) return;\n",
              "\n",
              "          const docLinkHtml = 'Like what you see? Visit the ' +\n",
              "            '<a target=\"_blank\" href=https://colab.research.google.com/notebooks/data_table.ipynb>data table notebook</a>'\n",
              "            + ' to learn more about interactive tables.';\n",
              "          element.innerHTML = '';\n",
              "          dataTable['output_type'] = 'display_data';\n",
              "          await google.colab.output.renderOutput(dataTable, element);\n",
              "          const docLink = document.createElement('div');\n",
              "          docLink.innerHTML = docLinkHtml;\n",
              "          element.appendChild(docLink);\n",
              "        }\n",
              "      </script>\n",
              "    </div>\n",
              "  </div>\n",
              "  "
            ]
          },
          "metadata": {},
          "execution_count": 13
        }
      ]
    },
    {
      "cell_type": "code",
      "source": [
        "# Description of dataset (Categorical):\n",
        "train_data.describe(include=['O'])"
      ],
      "metadata": {
        "colab": {
          "base_uri": "https://localhost:8080/",
          "height": 175
        },
        "id": "0OWujSsigpem",
        "outputId": "cf077d42-24df-4638-f7db-7feb0ba5e0dc"
      },
      "execution_count": 14,
      "outputs": [
        {
          "output_type": "execute_result",
          "data": {
            "text/plain": [
              "         sex smoker     region\n",
              "count    492    492        492\n",
              "unique     2      2          4\n",
              "top     male     no  northeast\n",
              "freq     286    430        146"
            ],
            "text/html": [
              "\n",
              "  <div id=\"df-2c00344b-1ae2-45ad-bf28-e0832f039b7a\">\n",
              "    <div class=\"colab-df-container\">\n",
              "      <div>\n",
              "<style scoped>\n",
              "    .dataframe tbody tr th:only-of-type {\n",
              "        vertical-align: middle;\n",
              "    }\n",
              "\n",
              "    .dataframe tbody tr th {\n",
              "        vertical-align: top;\n",
              "    }\n",
              "\n",
              "    .dataframe thead th {\n",
              "        text-align: right;\n",
              "    }\n",
              "</style>\n",
              "<table border=\"1\" class=\"dataframe\">\n",
              "  <thead>\n",
              "    <tr style=\"text-align: right;\">\n",
              "      <th></th>\n",
              "      <th>sex</th>\n",
              "      <th>smoker</th>\n",
              "      <th>region</th>\n",
              "    </tr>\n",
              "  </thead>\n",
              "  <tbody>\n",
              "    <tr>\n",
              "      <th>count</th>\n",
              "      <td>492</td>\n",
              "      <td>492</td>\n",
              "      <td>492</td>\n",
              "    </tr>\n",
              "    <tr>\n",
              "      <th>unique</th>\n",
              "      <td>2</td>\n",
              "      <td>2</td>\n",
              "      <td>4</td>\n",
              "    </tr>\n",
              "    <tr>\n",
              "      <th>top</th>\n",
              "      <td>male</td>\n",
              "      <td>no</td>\n",
              "      <td>northeast</td>\n",
              "    </tr>\n",
              "    <tr>\n",
              "      <th>freq</th>\n",
              "      <td>286</td>\n",
              "      <td>430</td>\n",
              "      <td>146</td>\n",
              "    </tr>\n",
              "  </tbody>\n",
              "</table>\n",
              "</div>\n",
              "      <button class=\"colab-df-convert\" onclick=\"convertToInteractive('df-2c00344b-1ae2-45ad-bf28-e0832f039b7a')\"\n",
              "              title=\"Convert this dataframe to an interactive table.\"\n",
              "              style=\"display:none;\">\n",
              "        \n",
              "  <svg xmlns=\"http://www.w3.org/2000/svg\" height=\"24px\"viewBox=\"0 0 24 24\"\n",
              "       width=\"24px\">\n",
              "    <path d=\"M0 0h24v24H0V0z\" fill=\"none\"/>\n",
              "    <path d=\"M18.56 5.44l.94 2.06.94-2.06 2.06-.94-2.06-.94-.94-2.06-.94 2.06-2.06.94zm-11 1L8.5 8.5l.94-2.06 2.06-.94-2.06-.94L8.5 2.5l-.94 2.06-2.06.94zm10 10l.94 2.06.94-2.06 2.06-.94-2.06-.94-.94-2.06-.94 2.06-2.06.94z\"/><path d=\"M17.41 7.96l-1.37-1.37c-.4-.4-.92-.59-1.43-.59-.52 0-1.04.2-1.43.59L10.3 9.45l-7.72 7.72c-.78.78-.78 2.05 0 2.83L4 21.41c.39.39.9.59 1.41.59.51 0 1.02-.2 1.41-.59l7.78-7.78 2.81-2.81c.8-.78.8-2.07 0-2.86zM5.41 20L4 18.59l7.72-7.72 1.47 1.35L5.41 20z\"/>\n",
              "  </svg>\n",
              "      </button>\n",
              "      \n",
              "  <style>\n",
              "    .colab-df-container {\n",
              "      display:flex;\n",
              "      flex-wrap:wrap;\n",
              "      gap: 12px;\n",
              "    }\n",
              "\n",
              "    .colab-df-convert {\n",
              "      background-color: #E8F0FE;\n",
              "      border: none;\n",
              "      border-radius: 50%;\n",
              "      cursor: pointer;\n",
              "      display: none;\n",
              "      fill: #1967D2;\n",
              "      height: 32px;\n",
              "      padding: 0 0 0 0;\n",
              "      width: 32px;\n",
              "    }\n",
              "\n",
              "    .colab-df-convert:hover {\n",
              "      background-color: #E2EBFA;\n",
              "      box-shadow: 0px 1px 2px rgba(60, 64, 67, 0.3), 0px 1px 3px 1px rgba(60, 64, 67, 0.15);\n",
              "      fill: #174EA6;\n",
              "    }\n",
              "\n",
              "    [theme=dark] .colab-df-convert {\n",
              "      background-color: #3B4455;\n",
              "      fill: #D2E3FC;\n",
              "    }\n",
              "\n",
              "    [theme=dark] .colab-df-convert:hover {\n",
              "      background-color: #434B5C;\n",
              "      box-shadow: 0px 1px 3px 1px rgba(0, 0, 0, 0.15);\n",
              "      filter: drop-shadow(0px 1px 2px rgba(0, 0, 0, 0.3));\n",
              "      fill: #FFFFFF;\n",
              "    }\n",
              "  </style>\n",
              "\n",
              "      <script>\n",
              "        const buttonEl =\n",
              "          document.querySelector('#df-2c00344b-1ae2-45ad-bf28-e0832f039b7a button.colab-df-convert');\n",
              "        buttonEl.style.display =\n",
              "          google.colab.kernel.accessAllowed ? 'block' : 'none';\n",
              "\n",
              "        async function convertToInteractive(key) {\n",
              "          const element = document.querySelector('#df-2c00344b-1ae2-45ad-bf28-e0832f039b7a');\n",
              "          const dataTable =\n",
              "            await google.colab.kernel.invokeFunction('convertToInteractive',\n",
              "                                                     [key], {});\n",
              "          if (!dataTable) return;\n",
              "\n",
              "          const docLinkHtml = 'Like what you see? Visit the ' +\n",
              "            '<a target=\"_blank\" href=https://colab.research.google.com/notebooks/data_table.ipynb>data table notebook</a>'\n",
              "            + ' to learn more about interactive tables.';\n",
              "          element.innerHTML = '';\n",
              "          dataTable['output_type'] = 'display_data';\n",
              "          await google.colab.output.renderOutput(dataTable, element);\n",
              "          const docLink = document.createElement('div');\n",
              "          docLink.innerHTML = docLinkHtml;\n",
              "          element.appendChild(docLink);\n",
              "        }\n",
              "      </script>\n",
              "    </div>\n",
              "  </div>\n",
              "  "
            ]
          },
          "metadata": {},
          "execution_count": 14
        }
      ]
    },
    {
      "cell_type": "code",
      "source": [
        "# Histrogram of Medical Insurance Charges:\n",
        "plt.figure(figsize=(8,5))\n",
        "sns.histplot(train_data, kde=True)\n",
        "plt.title('medical insurance charge',fontsize=20)\n",
        "plt.show()"
      ],
      "metadata": {
        "colab": {
          "base_uri": "https://localhost:8080/",
          "height": 476
        },
        "id": "Tay7DqxhgpiA",
        "outputId": "43d3e8cf-01d0-4db0-b207-d500e4fca473"
      },
      "execution_count": 17,
      "outputs": [
        {
          "output_type": "display_data",
          "data": {
            "text/plain": [
              "<Figure size 800x500 with 1 Axes>"
            ],
            "image/png": "[encoded data removed]"
          },
          "metadata": {}
        }
      ]
    },
    {
      "cell_type": "code",
      "source": [
        "# Boxplot of Medical Insurance Charges:\n",
        "plt.figure(figsize=(8,5))\n",
        "sns.boxplot(train_data)\n",
        "plt.title('Medical Insurance Charges (Boxplot)', fontsize=20)\n",
        "plt.show()"
      ],
      "metadata": {
        "colab": {
          "base_uri": "https://localhost:8080/",
          "height": 476
        },
        "id": "zyChM5Algpnv",
        "outputId": "d0e0f305-8bba-4579-f895-c0d6cb22b4da"
      },
      "execution_count": 19,
      "outputs": [
        {
          "output_type": "display_data",
          "data": {
            "text/plain": [
              "<Figure size 800x500 with 1 Axes>"
            ],
            "image/png": "[encoded data removed]"
          },
          "metadata": {}
        }
      ]
    },
    {
      "cell_type": "code",
      "source": [
        "# Histrogram of Age:\n",
        "plt.figure(figsize=(8,5))\n",
        "sns.histplot(train_data['age'], kde=True)\n",
        "plt.title('Age', fontsize=20)\n",
        "plt.show()"
      ],
      "metadata": {
        "colab": {
          "base_uri": "https://localhost:8080/",
          "height": 495
        },
        "id": "dvm9uqJ-gpqO",
        "outputId": "012e6cb4-dbf9-4351-8562-9ee835d0f6f1"
      },
      "execution_count": 20,
      "outputs": [
        {
          "output_type": "display_data",
          "data": {
            "text/plain": [
              "<Figure size 800x500 with 1 Axes>"
            ],
            "image/png": "[encoded data removed]"
          },
          "metadata": {}
        }
      ]
    },
    {
      "cell_type": "code",
      "source": [
        "# Boxplot of Age:\n",
        "plt.figure(figsize=(8,5))\n",
        "sns.boxplot(train_data['age'])\n",
        "plt.title('Age (boxplot)', fontsize=20)\n",
        "plt.show()"
      ],
      "metadata": {
        "colab": {
          "base_uri": "https://localhost:8080/",
          "height": 476
        },
        "id": "qct168NPgptQ",
        "outputId": "c81b2c29-c474-42e6-db85-afefffd2ed31"
      },
      "execution_count": 21,
      "outputs": [
        {
          "output_type": "display_data",
          "data": {
            "text/plain": [
              "<Figure size 800x500 with 1 Axes>"
            ],
            "image/png": "[encoded data removed]"
          },
          "metadata": {}
        }
      ]
    },
    {
      "cell_type": "code",
      "source": [
        "# Histrogram of Body Mass Index:\n",
        "plt.figure(figsize=(8,5))\n",
        "sns.histplot(train_data['bmi'], kde=True)\n",
        "plt.title('Body Mass Index', fontsize=20)\n",
        "plt.show()"
      ],
      "metadata": {
        "colab": {
          "base_uri": "https://localhost:8080/",
          "height": 495
        },
        "id": "w3AXA977jGiH",
        "outputId": "7a56e590-c46a-4700-c0fe-6ee0f9856bef"
      },
      "execution_count": 22,
      "outputs": [
        {
          "output_type": "display_data",
          "data": {
            "text/plain": [
              "<Figure size 800x500 with 1 Axes>"
            ],
            "image/png": "[encoded data removed]"
          },
          "metadata": {}
        }
      ]
    },
    {
      "cell_type": "code",
      "source": [
        "# Boxplot of Body Mass Index:\n",
        "plt.figure(figsize=(8,5))\n",
        "sns.boxplot(train_data['bmi'])\n",
        "plt.title('Body Mass Index (Boxplot)', fontsize=20)\n",
        "plt.show()"
      ],
      "metadata": {
        "colab": {
          "base_uri": "https://localhost:8080/",
          "height": 476
        },
        "id": "cj2MQwxpgpwO",
        "outputId": "7aaf6e8e-73fb-484d-e7ab-e76e1aedc9f9"
      },
      "execution_count": 23,
      "outputs": [
        {
          "output_type": "display_data",
          "data": {
            "text/plain": [
              "<Figure size 800x500 with 1 Axes>"
            ],
            "image/png": "[encoded data removed]"
          },
          "metadata": {}
        }
      ]
    },
    {
      "cell_type": "code",
      "source": [
        "# Histrogram of children:\n",
        "plt.figure(figsize=(8,5))\n",
        "sns.histplot(train_data['children'], kde=True)\n",
        "plt.title('childrens', fontsize=20)\n",
        "plt.show()"
      ],
      "metadata": {
        "colab": {
          "base_uri": "https://localhost:8080/",
          "height": 495
        },
        "id": "RUOF5_utgpzG",
        "outputId": "df1ff0e1-36a7-4413-c61b-03d4c9c73ae8"
      },
      "execution_count": 24,
      "outputs": [
        {
          "output_type": "display_data",
          "data": {
            "text/plain": [
              "<Figure size 800x500 with 1 Axes>"
            ],
            "image/png": "[encoded data removed]"
          },
          "metadata": {}
        }
      ]
    },
    {
      "cell_type": "code",
      "source": [
        "# Boxplot of children:\n",
        "plt.figure(figsize=(8,4))\n",
        "sns.boxplot(train_data['children'])\n",
        "plt.title('childrens (Boxplot)', fontsize=20)\n",
        "plt.show()"
      ],
      "metadata": {
        "colab": {
          "base_uri": "https://localhost:8080/",
          "height": 399
        },
        "id": "pneZIIfCgp2H",
        "outputId": "795e50af-c067-4dd1-8f7c-0d494e56a697"
      },
      "execution_count": 25,
      "outputs": [
        {
          "output_type": "display_data",
          "data": {
            "text/plain": [
              "<Figure size 800x400 with 1 Axes>"
            ],
            "image/png": "[encoded data removed]"
          },
          "metadata": {}
        }
      ]
    },
    {
      "cell_type": "code",
      "source": [
        "# Value Counts:\n",
        "print(\"Male   :\", train_data['sex'].value_counts()[0])\n",
        "print(\"Female :\", train_data['sex'].value_counts()[1])\n",
        "\n",
        "# Visualization:\n",
        "plt.figure(figsize=(6,4))\n",
        "sns.countplot(train_data)\n",
        "plt.title('Sex', fontsize=20)\n",
        "plt.show()"
      ],
      "metadata": {
        "colab": {
          "base_uri": "https://localhost:8080/",
          "height": 436
        },
        "id": "6CIBBZAmgp4_",
        "outputId": "e7c41800-8e6f-49ea-b911-589acdff5171"
      },
      "execution_count": 30,
      "outputs": [
        {
          "output_type": "stream",
          "name": "stdout",
          "text": [
            "Male   : 286\n",
            "Female : 206\n"
          ]
        },
        {
          "output_type": "display_data",
          "data": {
            "text/plain": [
              "<Figure size 600x400 with 1 Axes>"
            ],
            "image/png": "[encoded data removed]"
          },
          "metadata": {}
        }
      ]
    },
    {
      "cell_type": "code",
      "source": [
        "# Value Counts:\n",
        "print(\"Smokers     :\", train_data['smoker'].value_counts()[1])\n",
        "print(\"non-Smokers :\", train_data['smoker'].value_counts()[0])\n",
        "\n",
        "# Visualization:\n",
        "sns.countplot(train_data)\n",
        "sns.countplot(train_data)\n",
        "plt.title('Smokers', fontsize=20)\n",
        "plt.show()"
      ],
      "metadata": {
        "colab": {
          "base_uri": "https://localhost:8080/",
          "height": 497
        },
        "id": "ZKdKxhlygp74",
        "outputId": "3d193e71-35e7-4a40-858b-fde920e3d8c8"
      },
      "execution_count": 34,
      "outputs": [
        {
          "output_type": "stream",
          "name": "stdout",
          "text": [
            "Smokers     : 62\n",
            "non-Smokers : 430\n"
          ]
        },
        {
          "output_type": "display_data",
          "data": {
            "text/plain": [
              "<Figure size 640x480 with 1 Axes>"
            ],
            "image/png": "[encoded data removed]"
          },
          "metadata": {}
        }
      ]
    },
    {
      "cell_type": "code",
      "source": [
        "# Value Counts:\n",
        "\n",
        "print(\"North-West region :\", train_data['region'].value_counts()[1])\n",
        "print(\"South-West region :\", train_data['region'].value_counts()[2])\n",
        "print(\"North-East region :\", train_data['region'].value_counts()[3])\n",
        "\n",
        "# Visualization:\n",
        "plt.title('Regions', fontsize=20)\n",
        "plt.show()"
      ],
      "metadata": {
        "colab": {
          "base_uri": "https://localhost:8080/",
          "height": 515
        },
        "id": "2q0u3CFXgp_B",
        "outputId": "39fb7944-8ec4-4577-d685-04c9540875c0"
      },
      "execution_count": 38,
      "outputs": [
        {
          "output_type": "stream",
          "name": "stdout",
          "text": [
            "North-West region : 135\n",
            "South-West region : 106\n",
            "North-East region : 105\n"
          ]
        },
        {
          "output_type": "display_data",
          "data": {
            "text/plain": [
              "<Figure size 640x480 with 1 Axes>"
            ],
            "image/png": "[encoded data removed]"
          },
          "metadata": {}
        }
      ]
    },
    {
      "cell_type": "code",
      "source": [
        "# top 5 records:\n",
        "train_data.head()"
      ],
      "metadata": {
        "colab": {
          "base_uri": "https://localhost:8080/",
          "height": 206
        },
        "id": "6h_0Wf5sgqB4",
        "outputId": "dca18d98-d2b0-4d6a-ffca-d1e15b9f1fd0"
      },
      "execution_count": 39,
      "outputs": [
        {
          "output_type": "execute_result",
          "data": {
            "text/plain": [
              "         age     sex        bmi smoker     region  children\n",
              "0  40.000000    male  29.900000     no  southwest         2\n",
              "1  47.000000    male  32.300000     no  southwest         1\n",
              "2  54.000000  female  28.880000     no  northeast         2\n",
              "3  37.000000    male  30.568094     no  northeast         3\n",
              "4  59.130049    male  33.132854    yes  northeast         4"
            ],
            "text/html": [
              "\n",
              "  <div id=\"df-b5c01014-5749-4b83-8f9d-399dde9e66b0\">\n",
              "    <div class=\"colab-df-container\">\n",
              "      <div>\n",
              "<style scoped>\n",
              "    .dataframe tbody tr th:only-of-type {\n",
              "        vertical-align: middle;\n",
              "    }\n",
              "\n",
              "    .dataframe tbody tr th {\n",
              "        vertical-align: top;\n",
              "    }\n",
              "\n",
              "    .dataframe thead th {\n",
              "        text-align: right;\n",
              "    }\n",
              "</style>\n",
              "<table border=\"1\" class=\"dataframe\">\n",
              "  <thead>\n",
              "    <tr style=\"text-align: right;\">\n",
              "      <th></th>\n",
              "      <th>age</th>\n",
              "      <th>sex</th>\n",
              "      <th>bmi</th>\n",
              "      <th>smoker</th>\n",
              "      <th>region</th>\n",
              "      <th>children</th>\n",
              "    </tr>\n",
              "  </thead>\n",
              "  <tbody>\n",
              "    <tr>\n",
              "      <th>0</th>\n",
              "      <td>40.000000</td>\n",
              "      <td>male</td>\n",
              "      <td>29.900000</td>\n",
              "      <td>no</td>\n",
              "      <td>southwest</td>\n",
              "      <td>2</td>\n",
              "    </tr>\n",
              "    <tr>\n",
              "      <th>1</th>\n",
              "      <td>47.000000</td>\n",
              "      <td>male</td>\n",
              "      <td>32.300000</td>\n",
              "      <td>no</td>\n",
              "      <td>southwest</td>\n",
              "      <td>1</td>\n",
              "    </tr>\n",
              "    <tr>\n",
              "      <th>2</th>\n",
              "      <td>54.000000</td>\n",
              "      <td>female</td>\n",
              "      <td>28.880000</td>\n",
              "      <td>no</td>\n",
              "      <td>northeast</td>\n",
              "      <td>2</td>\n",
              "    </tr>\n",
              "    <tr>\n",
              "      <th>3</th>\n",
              "      <td>37.000000</td>\n",
              "      <td>male</td>\n",
              "      <td>30.568094</td>\n",
              "      <td>no</td>\n",
              "      <td>northeast</td>\n",
              "      <td>3</td>\n",
              "    </tr>\n",
              "    <tr>\n",
              "      <th>4</th>\n",
              "      <td>59.130049</td>\n",
              "      <td>male</td>\n",
              "      <td>33.132854</td>\n",
              "      <td>yes</td>\n",
              "      <td>northeast</td>\n",
              "      <td>4</td>\n",
              "    </tr>\n",
              "  </tbody>\n",
              "</table>\n",
              "</div>\n",
              "      <button class=\"colab-df-convert\" onclick=\"convertToInteractive('df-b5c01014-5749-4b83-8f9d-399dde9e66b0')\"\n",
              "              title=\"Convert this dataframe to an interactive table.\"\n",
              "              style=\"display:none;\">\n",
              "        \n",
              "  <svg xmlns=\"http://www.w3.org/2000/svg\" height=\"24px\"viewBox=\"0 0 24 24\"\n",
              "       width=\"24px\">\n",
              "    <path d=\"M0 0h24v24H0V0z\" fill=\"none\"/>\n",
              "    <path d=\"M18.56 5.44l.94 2.06.94-2.06 2.06-.94-2.06-.94-.94-2.06-.94 2.06-2.06.94zm-11 1L8.5 8.5l.94-2.06 2.06-.94-2.06-.94L8.5 2.5l-.94 2.06-2.06.94zm10 10l.94 2.06.94-2.06 2.06-.94-2.06-.94-.94-2.06-.94 2.06-2.06.94z\"/><path d=\"M17.41 7.96l-1.37-1.37c-.4-.4-.92-.59-1.43-.59-.52 0-1.04.2-1.43.59L10.3 9.45l-7.72 7.72c-.78.78-.78 2.05 0 2.83L4 21.41c.39.39.9.59 1.41.59.51 0 1.02-.2 1.41-.59l7.78-7.78 2.81-2.81c.8-.78.8-2.07 0-2.86zM5.41 20L4 18.59l7.72-7.72 1.47 1.35L5.41 20z\"/>\n",
              "  </svg>\n",
              "      </button>\n",
              "      \n",
              "  <style>\n",
              "    .colab-df-container {\n",
              "      display:flex;\n",
              "      flex-wrap:wrap;\n",
              "      gap: 12px;\n",
              "    }\n",
              "\n",
              "    .colab-df-convert {\n",
              "      background-color: #E8F0FE;\n",
              "      border: none;\n",
              "      border-radius: 50%;\n",
              "      cursor: pointer;\n",
              "      display: none;\n",
              "      fill: #1967D2;\n",
              "      height: 32px;\n",
              "      padding: 0 0 0 0;\n",
              "      width: 32px;\n",
              "    }\n",
              "\n",
              "    .colab-df-convert:hover {\n",
              "      background-color: #E2EBFA;\n",
              "      box-shadow: 0px 1px 2px rgba(60, 64, 67, 0.3), 0px 1px 3px 1px rgba(60, 64, 67, 0.15);\n",
              "      fill: #174EA6;\n",
              "    }\n",
              "\n",
              "    [theme=dark] .colab-df-convert {\n",
              "      background-color: #3B4455;\n",
              "      fill: #D2E3FC;\n",
              "    }\n",
              "\n",
              "    [theme=dark] .colab-df-convert:hover {\n",
              "      background-color: #434B5C;\n",
              "      box-shadow: 0px 1px 3px 1px rgba(0, 0, 0, 0.15);\n",
              "      filter: drop-shadow(0px 1px 2px rgba(0, 0, 0, 0.3));\n",
              "      fill: #FFFFFF;\n",
              "    }\n",
              "  </style>\n",
              "\n",
              "      <script>\n",
              "        const buttonEl =\n",
              "          document.querySelector('#df-b5c01014-5749-4b83-8f9d-399dde9e66b0 button.colab-df-convert');\n",
              "        buttonEl.style.display =\n",
              "          google.colab.kernel.accessAllowed ? 'block' : 'none';\n",
              "\n",
              "        async function convertToInteractive(key) {\n",
              "          const element = document.querySelector('#df-b5c01014-5749-4b83-8f9d-399dde9e66b0');\n",
              "          const dataTable =\n",
              "            await google.colab.kernel.invokeFunction('convertToInteractive',\n",
              "                                                     [key], {});\n",
              "          if (!dataTable) return;\n",
              "\n",
              "          const docLinkHtml = 'Like what you see? Visit the ' +\n",
              "            '<a target=\"_blank\" href=https://colab.research.google.com/notebooks/data_table.ipynb>data table notebook</a>'\n",
              "            + ' to learn more about interactive tables.';\n",
              "          element.innerHTML = '';\n",
              "          dataTable['output_type'] = 'display_data';\n",
              "          await google.colab.output.renderOutput(dataTable, element);\n",
              "          const docLink = document.createElement('div');\n",
              "          docLink.innerHTML = docLinkHtml;\n",
              "          element.appendChild(docLink);\n",
              "        }\n",
              "      </script>\n",
              "    </div>\n",
              "  </div>\n",
              "  "
            ]
          },
          "metadata": {},
          "execution_count": 39
        }
      ]
    },
    {
      "cell_type": "code",
      "source": [
        "# Rounding up & down Age:\n",
        "train_data['age'] = round(train_data['age'])"
      ],
      "metadata": {
        "id": "C37oSqrkgqFA"
      },
      "execution_count": 40,
      "outputs": []
    },
    {
      "cell_type": "code",
      "source": [
        "# top 5 records, after rounding up & down Age:\n",
        "train_data.head()"
      ],
      "metadata": {
        "colab": {
          "base_uri": "https://localhost:8080/",
          "height": 206
        },
        "id": "OD9bqntagqHP",
        "outputId": "3166e516-412e-47ad-96bd-441a43d2ddab"
      },
      "execution_count": 41,
      "outputs": [
        {
          "output_type": "execute_result",
          "data": {
            "text/plain": [
              "    age     sex        bmi smoker     region  children\n",
              "0  40.0    male  29.900000     no  southwest         2\n",
              "1  47.0    male  32.300000     no  southwest         1\n",
              "2  54.0  female  28.880000     no  northeast         2\n",
              "3  37.0    male  30.568094     no  northeast         3\n",
              "4  59.0    male  33.132854    yes  northeast         4"
            ],
            "text/html": [
              "\n",
              "  <div id=\"df-5e6cd413-5aaf-417b-a126-518aa8230bdc\">\n",
              "    <div class=\"colab-df-container\">\n",
              "      <div>\n",
              "<style scoped>\n",
              "    .dataframe tbody tr th:only-of-type {\n",
              "        vertical-align: middle;\n",
              "    }\n",
              "\n",
              "    .dataframe tbody tr th {\n",
              "        vertical-align: top;\n",
              "    }\n",
              "\n",
              "    .dataframe thead th {\n",
              "        text-align: right;\n",
              "    }\n",
              "</style>\n",
              "<table border=\"1\" class=\"dataframe\">\n",
              "  <thead>\n",
              "    <tr style=\"text-align: right;\">\n",
              "      <th></th>\n",
              "      <th>age</th>\n",
              "      <th>sex</th>\n",
              "      <th>bmi</th>\n",
              "      <th>smoker</th>\n",
              "      <th>region</th>\n",
              "      <th>children</th>\n",
              "    </tr>\n",
              "  </thead>\n",
              "  <tbody>\n",
              "    <tr>\n",
              "      <th>0</th>\n",
              "      <td>40.0</td>\n",
              "      <td>male</td>\n",
              "      <td>29.900000</td>\n",
              "      <td>no</td>\n",
              "      <td>southwest</td>\n",
              "      <td>2</td>\n",
              "    </tr>\n",
              "    <tr>\n",
              "      <th>1</th>\n",
              "      <td>47.0</td>\n",
              "      <td>male</td>\n",
              "      <td>32.300000</td>\n",
              "      <td>no</td>\n",
              "      <td>southwest</td>\n",
              "      <td>1</td>\n",
              "    </tr>\n",
              "    <tr>\n",
              "      <th>2</th>\n",
              "      <td>54.0</td>\n",
              "      <td>female</td>\n",
              "      <td>28.880000</td>\n",
              "      <td>no</td>\n",
              "      <td>northeast</td>\n",
              "      <td>2</td>\n",
              "    </tr>\n",
              "    <tr>\n",
              "      <th>3</th>\n",
              "      <td>37.0</td>\n",
              "      <td>male</td>\n",
              "      <td>30.568094</td>\n",
              "      <td>no</td>\n",
              "      <td>northeast</td>\n",
              "      <td>3</td>\n",
              "    </tr>\n",
              "    <tr>\n",
              "      <th>4</th>\n",
              "      <td>59.0</td>\n",
              "      <td>male</td>\n",
              "      <td>33.132854</td>\n",
              "      <td>yes</td>\n",
              "      <td>northeast</td>\n",
              "      <td>4</td>\n",
              "    </tr>\n",
              "  </tbody>\n",
              "</table>\n",
              "</div>\n",
              "      <button class=\"colab-df-convert\" onclick=\"convertToInteractive('df-5e6cd413-5aaf-417b-a126-518aa8230bdc')\"\n",
              "              title=\"Convert this dataframe to an interactive table.\"\n",
              "              style=\"display:none;\">\n",
              "        \n",
              "  <svg xmlns=\"http://www.w3.org/2000/svg\" height=\"24px\"viewBox=\"0 0 24 24\"\n",
              "       width=\"24px\">\n",
              "    <path d=\"M0 0h24v24H0V0z\" fill=\"none\"/>\n",
              "    <path d=\"M18.56 5.44l.94 2.06.94-2.06 2.06-.94-2.06-.94-.94-2.06-.94 2.06-2.06.94zm-11 1L8.5 8.5l.94-2.06 2.06-.94-2.06-.94L8.5 2.5l-.94 2.06-2.06.94zm10 10l.94 2.06.94-2.06 2.06-.94-2.06-.94-.94-2.06-.94 2.06-2.06.94z\"/><path d=\"M17.41 7.96l-1.37-1.37c-.4-.4-.92-.59-1.43-.59-.52 0-1.04.2-1.43.59L10.3 9.45l-7.72 7.72c-.78.78-.78 2.05 0 2.83L4 21.41c.39.39.9.59 1.41.59.51 0 1.02-.2 1.41-.59l7.78-7.78 2.81-2.81c.8-.78.8-2.07 0-2.86zM5.41 20L4 18.59l7.72-7.72 1.47 1.35L5.41 20z\"/>\n",
              "  </svg>\n",
              "      </button>\n",
              "      \n",
              "  <style>\n",
              "    .colab-df-container {\n",
              "      display:flex;\n",
              "      flex-wrap:wrap;\n",
              "      gap: 12px;\n",
              "    }\n",
              "\n",
              "    .colab-df-convert {\n",
              "      background-color: #E8F0FE;\n",
              "      border: none;\n",
              "      border-radius: 50%;\n",
              "      cursor: pointer;\n",
              "      display: none;\n",
              "      fill: #1967D2;\n",
              "      height: 32px;\n",
              "      padding: 0 0 0 0;\n",
              "      width: 32px;\n",
              "    }\n",
              "\n",
              "    .colab-df-convert:hover {\n",
              "      background-color: #E2EBFA;\n",
              "      box-shadow: 0px 1px 2px rgba(60, 64, 67, 0.3), 0px 1px 3px 1px rgba(60, 64, 67, 0.15);\n",
              "      fill: #174EA6;\n",
              "    }\n",
              "\n",
              "    [theme=dark] .colab-df-convert {\n",
              "      background-color: #3B4455;\n",
              "      fill: #D2E3FC;\n",
              "    }\n",
              "\n",
              "    [theme=dark] .colab-df-convert:hover {\n",
              "      background-color: #434B5C;\n",
              "      box-shadow: 0px 1px 3px 1px rgba(0, 0, 0, 0.15);\n",
              "      filter: drop-shadow(0px 1px 2px rgba(0, 0, 0, 0.3));\n",
              "      fill: #FFFFFF;\n",
              "    }\n",
              "  </style>\n",
              "\n",
              "      <script>\n",
              "        const buttonEl =\n",
              "          document.querySelector('#df-5e6cd413-5aaf-417b-a126-518aa8230bdc button.colab-df-convert');\n",
              "        buttonEl.style.display =\n",
              "          google.colab.kernel.accessAllowed ? 'block' : 'none';\n",
              "\n",
              "        async function convertToInteractive(key) {\n",
              "          const element = document.querySelector('#df-5e6cd413-5aaf-417b-a126-518aa8230bdc');\n",
              "          const dataTable =\n",
              "            await google.colab.kernel.invokeFunction('convertToInteractive',\n",
              "                                                     [key], {});\n",
              "          if (!dataTable) return;\n",
              "\n",
              "          const docLinkHtml = 'Like what you see? Visit the ' +\n",
              "            '<a target=\"_blank\" href=https://colab.research.google.com/notebooks/data_table.ipynb>data table notebook</a>'\n",
              "            + ' to learn more about interactive tables.';\n",
              "          element.innerHTML = '';\n",
              "          dataTable['output_type'] = 'display_data';\n",
              "          await google.colab.output.renderOutput(dataTable, element);\n",
              "          const docLink = document.createElement('div');\n",
              "          docLink.innerHTML = docLinkHtml;\n",
              "          element.appendChild(docLink);\n",
              "        }\n",
              "      </script>\n",
              "    </div>\n",
              "  </div>\n",
              "  "
            ]
          },
          "metadata": {},
          "execution_count": 41
        }
      ]
    },
    {
      "cell_type": "code",
      "source": [
        "# Encoding:\n",
        "train_data = pd.get_dummies(train_data, drop_first=True)"
      ],
      "metadata": {
        "id": "evEV-4eFgqKS"
      },
      "execution_count": 42,
      "outputs": []
    },
    {
      "cell_type": "code",
      "source": [
        "# top 2 records, after encoding:\n",
        "train_data.head(2)"
      ],
      "metadata": {
        "colab": {
          "base_uri": "https://localhost:8080/",
          "height": 112
        },
        "id": "eCHtiXgngqNY",
        "outputId": "b1154ff2-3806-447c-ecb1-b1eaf351447f"
      },
      "execution_count": 43,
      "outputs": [
        {
          "output_type": "execute_result",
          "data": {
            "text/plain": [
              "    age   bmi  children  sex_male  smoker_yes  region_northwest  \\\n",
              "0  40.0  29.9         2         1           0                 0   \n",
              "1  47.0  32.3         1         1           0                 0   \n",
              "\n",
              "   region_southeast  region_southwest  \n",
              "0                 0                 1  \n",
              "1                 0                 1  "
            ],
            "text/html": [
              "\n",
              "  <div id=\"df-9ec99745-5f8f-4803-992f-c085ec232907\">\n",
              "    <div class=\"colab-df-container\">\n",
              "      <div>\n",
              "<style scoped>\n",
              "    .dataframe tbody tr th:only-of-type {\n",
              "        vertical-align: middle;\n",
              "    }\n",
              "\n",
              "    .dataframe tbody tr th {\n",
              "        vertical-align: top;\n",
              "    }\n",
              "\n",
              "    .dataframe thead th {\n",
              "        text-align: right;\n",
              "    }\n",
              "</style>\n",
              "<table border=\"1\" class=\"dataframe\">\n",
              "  <thead>\n",
              "    <tr style=\"text-align: right;\">\n",
              "      <th></th>\n",
              "      <th>age</th>\n",
              "      <th>bmi</th>\n",
              "      <th>children</th>\n",
              "      <th>sex_male</th>\n",
              "      <th>smoker_yes</th>\n",
              "      <th>region_northwest</th>\n",
              "      <th>region_southeast</th>\n",
              "      <th>region_southwest</th>\n",
              "    </tr>\n",
              "  </thead>\n",
              "  <tbody>\n",
              "    <tr>\n",
              "      <th>0</th>\n",
              "      <td>40.0</td>\n",
              "      <td>29.9</td>\n",
              "      <td>2</td>\n",
              "      <td>1</td>\n",
              "      <td>0</td>\n",
              "      <td>0</td>\n",
              "      <td>0</td>\n",
              "      <td>1</td>\n",
              "    </tr>\n",
              "    <tr>\n",
              "      <th>1</th>\n",
              "      <td>47.0</td>\n",
              "      <td>32.3</td>\n",
              "      <td>1</td>\n",
              "      <td>1</td>\n",
              "      <td>0</td>\n",
              "      <td>0</td>\n",
              "      <td>0</td>\n",
              "      <td>1</td>\n",
              "    </tr>\n",
              "  </tbody>\n",
              "</table>\n",
              "</div>\n",
              "      <button class=\"colab-df-convert\" onclick=\"convertToInteractive('df-9ec99745-5f8f-4803-992f-c085ec232907')\"\n",
              "              title=\"Convert this dataframe to an interactive table.\"\n",
              "              style=\"display:none;\">\n",
              "        \n",
              "  <svg xmlns=\"http://www.w3.org/2000/svg\" height=\"24px\"viewBox=\"0 0 24 24\"\n",
              "       width=\"24px\">\n",
              "    <path d=\"M0 0h24v24H0V0z\" fill=\"none\"/>\n",
              "    <path d=\"M18.56 5.44l.94 2.06.94-2.06 2.06-.94-2.06-.94-.94-2.06-.94 2.06-2.06.94zm-11 1L8.5 8.5l.94-2.06 2.06-.94-2.06-.94L8.5 2.5l-.94 2.06-2.06.94zm10 10l.94 2.06.94-2.06 2.06-.94-2.06-.94-.94-2.06-.94 2.06-2.06.94z\"/><path d=\"M17.41 7.96l-1.37-1.37c-.4-.4-.92-.59-1.43-.59-.52 0-1.04.2-1.43.59L10.3 9.45l-7.72 7.72c-.78.78-.78 2.05 0 2.83L4 21.41c.39.39.9.59 1.41.59.51 0 1.02-.2 1.41-.59l7.78-7.78 2.81-2.81c.8-.78.8-2.07 0-2.86zM5.41 20L4 18.59l7.72-7.72 1.47 1.35L5.41 20z\"/>\n",
              "  </svg>\n",
              "      </button>\n",
              "      \n",
              "  <style>\n",
              "    .colab-df-container {\n",
              "      display:flex;\n",
              "      flex-wrap:wrap;\n",
              "      gap: 12px;\n",
              "    }\n",
              "\n",
              "    .colab-df-convert {\n",
              "      background-color: #E8F0FE;\n",
              "      border: none;\n",
              "      border-radius: 50%;\n",
              "      cursor: pointer;\n",
              "      display: none;\n",
              "      fill: #1967D2;\n",
              "      height: 32px;\n",
              "      padding: 0 0 0 0;\n",
              "      width: 32px;\n",
              "    }\n",
              "\n",
              "    .colab-df-convert:hover {\n",
              "      background-color: #E2EBFA;\n",
              "      box-shadow: 0px 1px 2px rgba(60, 64, 67, 0.3), 0px 1px 3px 1px rgba(60, 64, 67, 0.15);\n",
              "      fill: #174EA6;\n",
              "    }\n",
              "\n",
              "    [theme=dark] .colab-df-convert {\n",
              "      background-color: #3B4455;\n",
              "      fill: #D2E3FC;\n",
              "    }\n",
              "\n",
              "    [theme=dark] .colab-df-convert:hover {\n",
              "      background-color: #434B5C;\n",
              "      box-shadow: 0px 1px 3px 1px rgba(0, 0, 0, 0.15);\n",
              "      filter: drop-shadow(0px 1px 2px rgba(0, 0, 0, 0.3));\n",
              "      fill: #FFFFFF;\n",
              "    }\n",
              "  </style>\n",
              "\n",
              "      <script>\n",
              "        const buttonEl =\n",
              "          document.querySelector('#df-9ec99745-5f8f-4803-992f-c085ec232907 button.colab-df-convert');\n",
              "        buttonEl.style.display =\n",
              "          google.colab.kernel.accessAllowed ? 'block' : 'none';\n",
              "\n",
              "        async function convertToInteractive(key) {\n",
              "          const element = document.querySelector('#df-9ec99745-5f8f-4803-992f-c085ec232907');\n",
              "          const dataTable =\n",
              "            await google.colab.kernel.invokeFunction('convertToInteractive',\n",
              "                                                     [key], {});\n",
              "          if (!dataTable) return;\n",
              "\n",
              "          const docLinkHtml = 'Like what you see? Visit the ' +\n",
              "            '<a target=\"_blank\" href=https://colab.research.google.com/notebooks/data_table.ipynb>data table notebook</a>'\n",
              "            + ' to learn more about interactive tables.';\n",
              "          element.innerHTML = '';\n",
              "          dataTable['output_type'] = 'display_data';\n",
              "          await google.colab.output.renderOutput(dataTable, element);\n",
              "          const docLink = document.createElement('div');\n",
              "          docLink.innerHTML = docLinkHtml;\n",
              "          element.appendChild(docLink);\n",
              "        }\n",
              "      </script>\n",
              "    </div>\n",
              "  </div>\n",
              "  "
            ]
          },
          "metadata": {},
          "execution_count": 43
        }
      ]
    },
    {
      "cell_type": "code",
      "source": [
        "# Columns of dataset:\n",
        "train_data.columns"
      ],
      "metadata": {
        "colab": {
          "base_uri": "https://localhost:8080/"
        },
        "id": "4eebQa8ogqP2",
        "outputId": "d6745d80-ecbd-43da-d690-d82c355ee172"
      },
      "execution_count": 44,
      "outputs": [
        {
          "output_type": "execute_result",
          "data": {
            "text/plain": [
              "Index(['age', 'bmi', 'children', 'sex_male', 'smoker_yes', 'region_northwest',\n",
              "       'region_southeast', 'region_southwest'],\n",
              "      dtype='object')"
            ]
          },
          "metadata": {},
          "execution_count": 44
        }
      ]
    },
    {
      "cell_type": "code",
      "source": [
        "# Rearranging columns to see better: \n",
        "train_data = train_data[['age','sex_male','smoker_yes','bmi','children','region_northwest','region_southeast','region_southwest',]]\n",
        "train_data.head(2)"
      ],
      "metadata": {
        "colab": {
          "base_uri": "https://localhost:8080/",
          "height": 112
        },
        "id": "HRhLV74jgqS-",
        "outputId": "128a26f4-418d-4630-ef9c-b649cd323a47"
      },
      "execution_count": 46,
      "outputs": [
        {
          "output_type": "execute_result",
          "data": {
            "text/plain": [
              "    age  sex_male  smoker_yes   bmi  children  region_northwest  \\\n",
              "0  40.0         1           0  29.9         2                 0   \n",
              "1  47.0         1           0  32.3         1                 0   \n",
              "\n",
              "   region_southeast  region_southwest  \n",
              "0                 0                 1  \n",
              "1                 0                 1  "
            ],
            "text/html": [
              "\n",
              "  <div id=\"df-ad33e437-956d-40e4-86be-e20526772c77\">\n",
              "    <div class=\"colab-df-container\">\n",
              "      <div>\n",
              "<style scoped>\n",
              "    .dataframe tbody tr th:only-of-type {\n",
              "        vertical-align: middle;\n",
              "    }\n",
              "\n",
              "    .dataframe tbody tr th {\n",
              "        vertical-align: top;\n",
              "    }\n",
              "\n",
              "    .dataframe thead th {\n",
              "        text-align: right;\n",
              "    }\n",
              "</style>\n",
              "<table border=\"1\" class=\"dataframe\">\n",
              "  <thead>\n",
              "    <tr style=\"text-align: right;\">\n",
              "      <th></th>\n",
              "      <th>age</th>\n",
              "      <th>sex_male</th>\n",
              "      <th>smoker_yes</th>\n",
              "      <th>bmi</th>\n",
              "      <th>children</th>\n",
              "      <th>region_northwest</th>\n",
              "      <th>region_southeast</th>\n",
              "      <th>region_southwest</th>\n",
              "    </tr>\n",
              "  </thead>\n",
              "  <tbody>\n",
              "    <tr>\n",
              "      <th>0</th>\n",
              "      <td>40.0</td>\n",
              "      <td>1</td>\n",
              "      <td>0</td>\n",
              "      <td>29.9</td>\n",
              "      <td>2</td>\n",
              "      <td>0</td>\n",
              "      <td>0</td>\n",
              "      <td>1</td>\n",
              "    </tr>\n",
              "    <tr>\n",
              "      <th>1</th>\n",
              "      <td>47.0</td>\n",
              "      <td>1</td>\n",
              "      <td>0</td>\n",
              "      <td>32.3</td>\n",
              "      <td>1</td>\n",
              "      <td>0</td>\n",
              "      <td>0</td>\n",
              "      <td>1</td>\n",
              "    </tr>\n",
              "  </tbody>\n",
              "</table>\n",
              "</div>\n",
              "      <button class=\"colab-df-convert\" onclick=\"convertToInteractive('df-ad33e437-956d-40e4-86be-e20526772c77')\"\n",
              "              title=\"Convert this dataframe to an interactive table.\"\n",
              "              style=\"display:none;\">\n",
              "        \n",
              "  <svg xmlns=\"http://www.w3.org/2000/svg\" height=\"24px\"viewBox=\"0 0 24 24\"\n",
              "       width=\"24px\">\n",
              "    <path d=\"M0 0h24v24H0V0z\" fill=\"none\"/>\n",
              "    <path d=\"M18.56 5.44l.94 2.06.94-2.06 2.06-.94-2.06-.94-.94-2.06-.94 2.06-2.06.94zm-11 1L8.5 8.5l.94-2.06 2.06-.94-2.06-.94L8.5 2.5l-.94 2.06-2.06.94zm10 10l.94 2.06.94-2.06 2.06-.94-2.06-.94-.94-2.06-.94 2.06-2.06.94z\"/><path d=\"M17.41 7.96l-1.37-1.37c-.4-.4-.92-.59-1.43-.59-.52 0-1.04.2-1.43.59L10.3 9.45l-7.72 7.72c-.78.78-.78 2.05 0 2.83L4 21.41c.39.39.9.59 1.41.59.51 0 1.02-.2 1.41-.59l7.78-7.78 2.81-2.81c.8-.78.8-2.07 0-2.86zM5.41 20L4 18.59l7.72-7.72 1.47 1.35L5.41 20z\"/>\n",
              "  </svg>\n",
              "      </button>\n",
              "      \n",
              "  <style>\n",
              "    .colab-df-container {\n",
              "      display:flex;\n",
              "      flex-wrap:wrap;\n",
              "      gap: 12px;\n",
              "    }\n",
              "\n",
              "    .colab-df-convert {\n",
              "      background-color: #E8F0FE;\n",
              "      border: none;\n",
              "      border-radius: 50%;\n",
              "      cursor: pointer;\n",
              "      display: none;\n",
              "      fill: #1967D2;\n",
              "      height: 32px;\n",
              "      padding: 0 0 0 0;\n",
              "      width: 32px;\n",
              "    }\n",
              "\n",
              "    .colab-df-convert:hover {\n",
              "      background-color: #E2EBFA;\n",
              "      box-shadow: 0px 1px 2px rgba(60, 64, 67, 0.3), 0px 1px 3px 1px rgba(60, 64, 67, 0.15);\n",
              "      fill: #174EA6;\n",
              "    }\n",
              "\n",
              "    [theme=dark] .colab-df-convert {\n",
              "      background-color: #3B4455;\n",
              "      fill: #D2E3FC;\n",
              "    }\n",
              "\n",
              "    [theme=dark] .colab-df-convert:hover {\n",
              "      background-color: #434B5C;\n",
              "      box-shadow: 0px 1px 3px 1px rgba(0, 0, 0, 0.15);\n",
              "      filter: drop-shadow(0px 1px 2px rgba(0, 0, 0, 0.3));\n",
              "      fill: #FFFFFF;\n",
              "    }\n",
              "  </style>\n",
              "\n",
              "      <script>\n",
              "        const buttonEl =\n",
              "          document.querySelector('#df-ad33e437-956d-40e4-86be-e20526772c77 button.colab-df-convert');\n",
              "        buttonEl.style.display =\n",
              "          google.colab.kernel.accessAllowed ? 'block' : 'none';\n",
              "\n",
              "        async function convertToInteractive(key) {\n",
              "          const element = document.querySelector('#df-ad33e437-956d-40e4-86be-e20526772c77');\n",
              "          const dataTable =\n",
              "            await google.colab.kernel.invokeFunction('convertToInteractive',\n",
              "                                                     [key], {});\n",
              "          if (!dataTable) return;\n",
              "\n",
              "          const docLinkHtml = 'Like what you see? Visit the ' +\n",
              "            '<a target=\"_blank\" href=https://colab.research.google.com/notebooks/data_table.ipynb>data table notebook</a>'\n",
              "            + ' to learn more about interactive tables.';\n",
              "          element.innerHTML = '';\n",
              "          dataTable['output_type'] = 'display_data';\n",
              "          await google.colab.output.renderOutput(dataTable, element);\n",
              "          const docLink = document.createElement('div');\n",
              "          docLink.innerHTML = docLinkHtml;\n",
              "          element.appendChild(docLink);\n",
              "        }\n",
              "      </script>\n",
              "    </div>\n",
              "  </div>\n",
              "  "
            ]
          },
          "metadata": {},
          "execution_count": 46
        }
      ]
    },
    {
      "cell_type": "code",
      "source": [
        "# Splitting Independent & Dependent Feature:\n",
        "X = train_data.iloc[:, :-1]\n",
        "y = train_data.iloc[:, -1]"
      ],
      "metadata": {
        "id": "tHET4xB1gqWP"
      },
      "execution_count": 47,
      "outputs": []
    },
    {
      "cell_type": "code",
      "source": [
        "# top 2 records of Independent feature:\n",
        "X.head(2)"
      ],
      "metadata": {
        "colab": {
          "base_uri": "https://localhost:8080/",
          "height": 112
        },
        "id": "gEcFiK0JntdK",
        "outputId": "25f47203-3010-46ea-e8d6-96c3e1e13b4d"
      },
      "execution_count": 48,
      "outputs": [
        {
          "output_type": "execute_result",
          "data": {
            "text/plain": [
              "    age  sex_male  smoker_yes   bmi  children  region_northwest  \\\n",
              "0  40.0         1           0  29.9         2                 0   \n",
              "1  47.0         1           0  32.3         1                 0   \n",
              "\n",
              "   region_southeast  \n",
              "0                 0  \n",
              "1                 0  "
            ],
            "text/html": [
              "\n",
              "  <div id=\"df-5912db0e-ff9a-4b69-b1ea-d1825ac3a6f1\">\n",
              "    <div class=\"colab-df-container\">\n",
              "      <div>\n",
              "<style scoped>\n",
              "    .dataframe tbody tr th:only-of-type {\n",
              "        vertical-align: middle;\n",
              "    }\n",
              "\n",
              "    .dataframe tbody tr th {\n",
              "        vertical-align: top;\n",
              "    }\n",
              "\n",
              "    .dataframe thead th {\n",
              "        text-align: right;\n",
              "    }\n",
              "</style>\n",
              "<table border=\"1\" class=\"dataframe\">\n",
              "  <thead>\n",
              "    <tr style=\"text-align: right;\">\n",
              "      <th></th>\n",
              "      <th>age</th>\n",
              "      <th>sex_male</th>\n",
              "      <th>smoker_yes</th>\n",
              "      <th>bmi</th>\n",
              "      <th>children</th>\n",
              "      <th>region_northwest</th>\n",
              "      <th>region_southeast</th>\n",
              "    </tr>\n",
              "  </thead>\n",
              "  <tbody>\n",
              "    <tr>\n",
              "      <th>0</th>\n",
              "      <td>40.0</td>\n",
              "      <td>1</td>\n",
              "      <td>0</td>\n",
              "      <td>29.9</td>\n",
              "      <td>2</td>\n",
              "      <td>0</td>\n",
              "      <td>0</td>\n",
              "    </tr>\n",
              "    <tr>\n",
              "      <th>1</th>\n",
              "      <td>47.0</td>\n",
              "      <td>1</td>\n",
              "      <td>0</td>\n",
              "      <td>32.3</td>\n",
              "      <td>1</td>\n",
              "      <td>0</td>\n",
              "      <td>0</td>\n",
              "    </tr>\n",
              "  </tbody>\n",
              "</table>\n",
              "</div>\n",
              "      <button class=\"colab-df-convert\" onclick=\"convertToInteractive('df-5912db0e-ff9a-4b69-b1ea-d1825ac3a6f1')\"\n",
              "              title=\"Convert this dataframe to an interactive table.\"\n",
              "              style=\"display:none;\">\n",
              "        \n",
              "  <svg xmlns=\"http://www.w3.org/2000/svg\" height=\"24px\"viewBox=\"0 0 24 24\"\n",
              "       width=\"24px\">\n",
              "    <path d=\"M0 0h24v24H0V0z\" fill=\"none\"/>\n",
              "    <path d=\"M18.56 5.44l.94 2.06.94-2.06 2.06-.94-2.06-.94-.94-2.06-.94 2.06-2.06.94zm-11 1L8.5 8.5l.94-2.06 2.06-.94-2.06-.94L8.5 2.5l-.94 2.06-2.06.94zm10 10l.94 2.06.94-2.06 2.06-.94-2.06-.94-.94-2.06-.94 2.06-2.06.94z\"/><path d=\"M17.41 7.96l-1.37-1.37c-.4-.4-.92-.59-1.43-.59-.52 0-1.04.2-1.43.59L10.3 9.45l-7.72 7.72c-.78.78-.78 2.05 0 2.83L4 21.41c.39.39.9.59 1.41.59.51 0 1.02-.2 1.41-.59l7.78-7.78 2.81-2.81c.8-.78.8-2.07 0-2.86zM5.41 20L4 18.59l7.72-7.72 1.47 1.35L5.41 20z\"/>\n",
              "  </svg>\n",
              "      </button>\n",
              "      \n",
              "  <style>\n",
              "    .colab-df-container {\n",
              "      display:flex;\n",
              "      flex-wrap:wrap;\n",
              "      gap: 12px;\n",
              "    }\n",
              "\n",
              "    .colab-df-convert {\n",
              "      background-color: #E8F0FE;\n",
              "      border: none;\n",
              "      border-radius: 50%;\n",
              "      cursor: pointer;\n",
              "      display: none;\n",
              "      fill: #1967D2;\n",
              "      height: 32px;\n",
              "      padding: 0 0 0 0;\n",
              "      width: 32px;\n",
              "    }\n",
              "\n",
              "    .colab-df-convert:hover {\n",
              "      background-color: #E2EBFA;\n",
              "      box-shadow: 0px 1px 2px rgba(60, 64, 67, 0.3), 0px 1px 3px 1px rgba(60, 64, 67, 0.15);\n",
              "      fill: #174EA6;\n",
              "    }\n",
              "\n",
              "    [theme=dark] .colab-df-convert {\n",
              "      background-color: #3B4455;\n",
              "      fill: #D2E3FC;\n",
              "    }\n",
              "\n",
              "    [theme=dark] .colab-df-convert:hover {\n",
              "      background-color: #434B5C;\n",
              "      box-shadow: 0px 1px 3px 1px rgba(0, 0, 0, 0.15);\n",
              "      filter: drop-shadow(0px 1px 2px rgba(0, 0, 0, 0.3));\n",
              "      fill: #FFFFFF;\n",
              "    }\n",
              "  </style>\n",
              "\n",
              "      <script>\n",
              "        const buttonEl =\n",
              "          document.querySelector('#df-5912db0e-ff9a-4b69-b1ea-d1825ac3a6f1 button.colab-df-convert');\n",
              "        buttonEl.style.display =\n",
              "          google.colab.kernel.accessAllowed ? 'block' : 'none';\n",
              "\n",
              "        async function convertToInteractive(key) {\n",
              "          const element = document.querySelector('#df-5912db0e-ff9a-4b69-b1ea-d1825ac3a6f1');\n",
              "          const dataTable =\n",
              "            await google.colab.kernel.invokeFunction('convertToInteractive',\n",
              "                                                     [key], {});\n",
              "          if (!dataTable) return;\n",
              "\n",
              "          const docLinkHtml = 'Like what you see? Visit the ' +\n",
              "            '<a target=\"_blank\" href=https://colab.research.google.com/notebooks/data_table.ipynb>data table notebook</a>'\n",
              "            + ' to learn more about interactive tables.';\n",
              "          element.innerHTML = '';\n",
              "          dataTable['output_type'] = 'display_data';\n",
              "          await google.colab.output.renderOutput(dataTable, element);\n",
              "          const docLink = document.createElement('div');\n",
              "          docLink.innerHTML = docLinkHtml;\n",
              "          element.appendChild(docLink);\n",
              "        }\n",
              "      </script>\n",
              "    </div>\n",
              "  </div>\n",
              "  "
            ]
          },
          "metadata": {},
          "execution_count": 48
        }
      ]
    },
    {
      "cell_type": "code",
      "source": [
        "# top 2 records of Dependent Feature:\n",
        "y.head(2)"
      ],
      "metadata": {
        "colab": {
          "base_uri": "https://localhost:8080/"
        },
        "id": "hxrb0JCantgS",
        "outputId": "ac0e69e1-72b7-4e36-9224-2fe2bb5be493"
      },
      "execution_count": 49,
      "outputs": [
        {
          "output_type": "execute_result",
          "data": {
            "text/plain": [
              "0    1\n",
              "1    1\n",
              "Name: region_southwest, dtype: uint8"
            ]
          },
          "metadata": {},
          "execution_count": 49
        }
      ]
    },
    {
      "cell_type": "code",
      "source": [
        "# Train Test Split:\n",
        "from sklearn.model_selection import train_test_split\n",
        "X_train, X_test, y_train, y_test = train_test_split(X,y, test_size=0.2, random_state=0)"
      ],
      "metadata": {
        "id": "Oid0O0GZntlJ"
      },
      "execution_count": 50,
      "outputs": []
    },
    {
      "cell_type": "code",
      "source": [
        "# Importing Performance Metrics:\n",
        "from sklearn.metrics import mean_squared_error, r2_score"
      ],
      "metadata": {
        "id": "baRvv6IEntop"
      },
      "execution_count": 51,
      "outputs": []
    },
    {
      "cell_type": "code",
      "source": [
        "# Linear Regression:\n",
        "from sklearn.linear_model import LinearRegression\n",
        "LinearRegression = LinearRegression()\n",
        "LinearRegression = LinearRegression.fit(X_train, y_train)\n",
        "\n",
        "# Prediction:\n",
        "y_pred = LinearRegression.predict(X_test)\n",
        "\n",
        "# Scores:\n",
        "print(r2_score(y_test, y_pred))\n",
        "print(mean_squared_error(y_test, y_pred))"
      ],
      "metadata": {
        "colab": {
          "base_uri": "https://localhost:8080/"
        },
        "id": "Mx71pXI4n08A",
        "outputId": "dd0e0271-e491-4ee9-c0f5-0b1d2c9a415f"
      },
      "execution_count": 52,
      "outputs": [
        {
          "output_type": "stream",
          "name": "stdout",
          "text": [
            "0.3349627119696609\n",
            "0.11860883373911163\n"
          ]
        }
      ]
    },
    {
      "cell_type": "code",
      "source": [
        "# Ridge:\n",
        "from sklearn.linear_model import Ridge\n",
        "Ridge = Ridge()\n",
        "Ridge = Ridge.fit(X_train, y_train)\n",
        "\n",
        "# Prediction:\n",
        "y_pred = Ridge.predict(X_test)\n",
        "\n",
        "# Scores:\n",
        "print(r2_score(y_test, y_pred))\n",
        "print(mean_squared_error(y_test, y_pred))"
      ],
      "metadata": {
        "colab": {
          "base_uri": "https://localhost:8080/"
        },
        "id": "WY0fHnsmn0_O",
        "outputId": "4f2c6668-65bc-4f7b-bbc4-eda599a1116e"
      },
      "execution_count": 53,
      "outputs": [
        {
          "output_type": "stream",
          "name": "stdout",
          "text": [
            "0.33464165508654053\n",
            "0.11866609396069047\n"
          ]
        }
      ]
    },
    {
      "cell_type": "code",
      "source": [
        "# Lasso:\n",
        "from sklearn.linear_model import Lasso\n",
        "Lasso = Lasso()\n",
        "Lasso = Lasso.fit(X_train, y_train)\n",
        "\n",
        "# Prediction:\n",
        "y_pred = Lasso.predict(X_test)\n",
        "\n",
        "# Scores:\n",
        "print(r2_score(y_test, y_pred))\n",
        "print(mean_squared_error(y_test, y_pred))"
      ],
      "metadata": {
        "colab": {
          "base_uri": "https://localhost:8080/"
        },
        "id": "8JUBhTidn1CV",
        "outputId": "8d1d42d5-fc78-40b8-cf86-45194fbcd19d"
      },
      "execution_count": 54,
      "outputs": [
        {
          "output_type": "stream",
          "name": "stdout",
          "text": [
            "0.006107214844469633\n",
            "0.17725993148167202\n"
          ]
        }
      ]
    },
    {
      "cell_type": "code",
      "source": [
        "# Random Forest Regressor:\n",
        "from sklearn.ensemble import RandomForestRegressor\n",
        "RandomForestRegressor = RandomForestRegressor()\n",
        "RandomForestRegressor = RandomForestRegressor.fit(X_train, y_train)\n",
        "\n",
        "# Prediction:\n",
        "y_pred = RandomForestRegressor.predict(X_test)\n",
        "\n",
        "# Scores:\n",
        "print(r2_score(y_test, y_pred))\n",
        "print(mean_squared_error(y_test, y_pred))"
      ],
      "metadata": {
        "colab": {
          "base_uri": "https://localhost:8080/"
        },
        "id": "tfk0HW-7n1Fo",
        "outputId": "46e37160-93b7-4aa8-9783-154523661e57"
      },
      "execution_count": 55,
      "outputs": [
        {
          "output_type": "stream",
          "name": "stdout",
          "text": [
            "0.2903036613272313\n",
            "0.12657373737373737\n"
          ]
        }
      ]
    },
    {
      "cell_type": "code",
      "source": [
        "# Creating a pickle file for the classifier\n",
        "import pickle\n",
        "filename = 'MedicalInsuranceCost.pkl'\n",
        "pickle.dump(RandomForestRegressor, open(filename, 'wb'))"
      ],
      "metadata": {
        "id": "31tV2VKqn1JZ"
      },
      "execution_count": 56,
      "outputs": []
    },
    {
      "cell_type": "code",
      "source": [],
      "metadata": {
        "id": "5clNpGoAgqY2"
      },
      "execution_count": null,
      "outputs": []
    }
  ]
}